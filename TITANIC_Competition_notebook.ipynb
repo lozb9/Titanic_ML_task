{
 "cells": [
  {
   "cell_type": "markdown",
   "metadata": {
    "id": "m6QSR-ONzu97"
   },
   "source": [
    "# I.Topic presentation:\n"
   ]
  },
  {
   "cell_type": "markdown",
   "metadata": {
    "id": "W0_R82F60lYZ"
   },
   "source": [
    "Titanic Dataset is a famous dataset that contains passengers' information from the Titanic ship accident. Our goal in this project is to test out and interpret on different levels multiple models and ML techniques. Therefore we chose this dataset with a defined amount of data in order to demonstrate how different models process a simple classification problem, which in our case is the prediction of the survival of the passengers through age and passengers' class among other features.\n",
    "\n",
    "The first part of the following report is dedicated to preprocessing and analyzing the data. This will include data presentation, cleaning, handling missing values and exploration. <br>\n",
    "The second part will be focused on model selection & interpretation. We will evaluate different models based on multiple metrics and justify the reasoning behind the chosen models and the champion model.\n",
    "\n",
    "This analysis has been made by lozb9 and a fellow colleague. "
   ]
  },
  {
   "cell_type": "code",
   "execution_count": 1,
   "metadata": {
    "id": "xGLdHDK-626h"
   },
   "outputs": [],
   "source": [
    "#IMPORTS\n",
    "import pandas as pd\n",
    "import numpy as np\n",
    "import seaborn as sns\n",
    "import matplotlib.pyplot as plt\n",
    "import warnings\n",
    "import re\n",
    "warnings.filterwarnings(\"ignore\")\n",
    "\n",
    "from sklearn.tree import DecisionTreeClassifier\n",
    "from sklearn.linear_model import LogisticRegression\n",
    "from sklearn.neighbors import KNeighborsClassifier\n",
    "from sklearn.metrics import accuracy_score, precision_score, recall_score, f1_score, confusion_matrix, classification_report, roc_curve, roc_auc_score, RocCurveDisplay\n",
    "from sklearn.ensemble import BaggingClassifier # for bootstraping\n",
    "from sklearn.model_selection import train_test_split\n",
    "#from sklearn.metrics import precision_recall_fscore_support\n",
    "from sklearn.tree import plot_tree #viz DT\n",
    "from sklearn.model_selection import GridSearchCV, cross_val_score #hyper param\n",
    "\n",
    "from sklearn.ensemble import RandomForestClassifier # RF"
   ]
  },
  {
   "cell_type": "markdown",
   "metadata": {
    "id": "fJxLI-wFjIam"
   },
   "source": [
    "# II.Data:"
   ]
  },
  {
   "cell_type": "markdown",
   "metadata": {
    "id": "BhfgJACc6YPR"
   },
   "source": [
    "## 1 - Data presentation:\n",
    "\n",
    "** Our main objective here is to get to know our data: understand what is behind each variable, determine what is our dependant variable, if it necessites any cleaning, any nan treatment... We also want to understand whether each variable is discrete, continuous, textual type.\n",
    "\n",
    "**Variable:** \n",
    "\n",
    "*survival*:\tSurvival\t0 = No, 1 = Yes -> Dependant variable\n",
    "\n",
    "*pclass*:\tTicket class\t1 = 1st, 2 = 2nd, 3 = 3rd\n",
    "*sex*:\tSex\t\n",
    "*Age*:\tAge in years\t\n",
    "*sibsp*:\t# of siblings / spouses aboard the Titanic\t\n",
    "*parch*:\t# of parents / children aboard the Titanic\t\n",
    "*ticket*:\tTicket number\t\n",
    "*fare*:\tPassenger fare\t\n",
    "*cabin*:\tCabin number\t\n",
    "*embarked*:\tPort of Embarkation\tC = Cherbourg, Q = Queenstown, S = Southampton\n",
    "\n",
    "**Variable notes:**\n",
    "\n",
    "*pclass*: A proxy for socio-economic status (SES) <br>\n",
    "1st = Upper <br>\n",
    "2nd = Middle<br>\n",
    "3rd = Lower<br>\n",
    "\n",
    "*age*: Age is fractional if less than 1. If the age is estimated, is it in the form of xx.5\n",
    "\n",
    "*sibsp*: The dataset defines family relations in this way: Sibling = brother, sister, stepbrother, stepsister. Spouse = husband, wife (mistresses and fiancés were ignored)\n",
    "\n",
    "*parch*: The dataset defines family relations in this way: Parent = mother, father. Child = daughter, son, stepdaughter, stepson."
   ]
  },
  {
   "cell_type": "code",
   "execution_count": 2,
   "metadata": {
    "colab": {
     "base_uri": "https://localhost:8080/"
    },
    "id": "xJLZmLvB7cNh",
    "outputId": "e445ce78-bb1d-4484-9d73-8d2028c34db5"
   },
   "outputs": [
    {
     "name": "stdout",
     "output_type": "stream",
     "text": [
      "<class 'pandas.core.frame.DataFrame'>\n",
      "RangeIndex: 1309 entries, 0 to 1308\n",
      "Data columns (total 11 columns):\n",
      " #   Column    Non-Null Count  Dtype  \n",
      "---  ------    --------------  -----  \n",
      " 0   Pclass    1309 non-null   int64  \n",
      " 1   Survived  1309 non-null   int64  \n",
      " 2   Name      1309 non-null   object \n",
      " 3   Sex       1309 non-null   object \n",
      " 4   Age       1046 non-null   float64\n",
      " 5   SibSp     1309 non-null   int64  \n",
      " 6   Parch     1309 non-null   int64  \n",
      " 7   Ticket    1309 non-null   object \n",
      " 8   Fare      1308 non-null   float64\n",
      " 9   Cabin     295 non-null    object \n",
      " 10  Embarked  1307 non-null   object \n",
      "dtypes: float64(2), int64(4), object(5)\n",
      "memory usage: 112.6+ KB\n"
     ]
    }
   ],
   "source": [
    "# upload dataset\n",
    "df_all = pd.read_excel('titanic3.xls')\n",
    "# data information\n",
    "df_all.info()"
   ]
  },
  {
   "cell_type": "code",
   "execution_count": 3,
   "metadata": {
    "colab": {
     "base_uri": "https://localhost:8080/",
     "height": 206
    },
    "id": "0K3j3_CJ_1xm",
    "outputId": "43cbe4dc-36ba-47fe-ccaa-d128c9f1da5f"
   },
   "outputs": [
    {
     "data": {
      "text/html": [
       "\n",
       "  <div id=\"df-c7d2dab4-6974-4f3d-b59d-6b2b15cc3448\">\n",
       "    <div class=\"colab-df-container\">\n",
       "      <div>\n",
       "<style scoped>\n",
       "    .dataframe tbody tr th:only-of-type {\n",
       "        vertical-align: middle;\n",
       "    }\n",
       "\n",
       "    .dataframe tbody tr th {\n",
       "        vertical-align: top;\n",
       "    }\n",
       "\n",
       "    .dataframe thead th {\n",
       "        text-align: right;\n",
       "    }\n",
       "</style>\n",
       "<table border=\"1\" class=\"dataframe\">\n",
       "  <thead>\n",
       "    <tr style=\"text-align: right;\">\n",
       "      <th></th>\n",
       "      <th>Pclass</th>\n",
       "      <th>Survived</th>\n",
       "      <th>Name</th>\n",
       "      <th>Sex</th>\n",
       "      <th>Age</th>\n",
       "      <th>SibSp</th>\n",
       "      <th>Parch</th>\n",
       "      <th>Ticket</th>\n",
       "      <th>Fare</th>\n",
       "      <th>Cabin</th>\n",
       "      <th>Embarked</th>\n",
       "    </tr>\n",
       "  </thead>\n",
       "  <tbody>\n",
       "    <tr>\n",
       "      <th>0</th>\n",
       "      <td>1</td>\n",
       "      <td>1</td>\n",
       "      <td>Allen, Miss. Elisabeth Walton</td>\n",
       "      <td>female</td>\n",
       "      <td>29.0000</td>\n",
       "      <td>0</td>\n",
       "      <td>0</td>\n",
       "      <td>24160</td>\n",
       "      <td>211.3375</td>\n",
       "      <td>B5</td>\n",
       "      <td>S</td>\n",
       "    </tr>\n",
       "    <tr>\n",
       "      <th>1</th>\n",
       "      <td>1</td>\n",
       "      <td>1</td>\n",
       "      <td>Allison, Master. Hudson Trevor</td>\n",
       "      <td>male</td>\n",
       "      <td>0.9167</td>\n",
       "      <td>1</td>\n",
       "      <td>2</td>\n",
       "      <td>113781</td>\n",
       "      <td>151.5500</td>\n",
       "      <td>C22 C26</td>\n",
       "      <td>S</td>\n",
       "    </tr>\n",
       "    <tr>\n",
       "      <th>2</th>\n",
       "      <td>1</td>\n",
       "      <td>0</td>\n",
       "      <td>Allison, Miss. Helen Loraine</td>\n",
       "      <td>female</td>\n",
       "      <td>2.0000</td>\n",
       "      <td>1</td>\n",
       "      <td>2</td>\n",
       "      <td>113781</td>\n",
       "      <td>151.5500</td>\n",
       "      <td>C22 C26</td>\n",
       "      <td>S</td>\n",
       "    </tr>\n",
       "    <tr>\n",
       "      <th>3</th>\n",
       "      <td>1</td>\n",
       "      <td>0</td>\n",
       "      <td>Allison, Mr. Hudson Joshua Creighton</td>\n",
       "      <td>male</td>\n",
       "      <td>30.0000</td>\n",
       "      <td>1</td>\n",
       "      <td>2</td>\n",
       "      <td>113781</td>\n",
       "      <td>151.5500</td>\n",
       "      <td>C22 C26</td>\n",
       "      <td>S</td>\n",
       "    </tr>\n",
       "    <tr>\n",
       "      <th>4</th>\n",
       "      <td>1</td>\n",
       "      <td>0</td>\n",
       "      <td>Allison, Mrs. Hudson J C (Bessie Waldo Daniels)</td>\n",
       "      <td>female</td>\n",
       "      <td>25.0000</td>\n",
       "      <td>1</td>\n",
       "      <td>2</td>\n",
       "      <td>113781</td>\n",
       "      <td>151.5500</td>\n",
       "      <td>C22 C26</td>\n",
       "      <td>S</td>\n",
       "    </tr>\n",
       "  </tbody>\n",
       "</table>\n",
       "</div>\n",
       "      <button class=\"colab-df-convert\" onclick=\"convertToInteractive('df-c7d2dab4-6974-4f3d-b59d-6b2b15cc3448')\"\n",
       "              title=\"Convert this dataframe to an interactive table.\"\n",
       "              style=\"display:none;\">\n",
       "        \n",
       "  <svg xmlns=\"http://www.w3.org/2000/svg\" height=\"24px\"viewBox=\"0 0 24 24\"\n",
       "       width=\"24px\">\n",
       "    <path d=\"M0 0h24v24H0V0z\" fill=\"none\"/>\n",
       "    <path d=\"M18.56 5.44l.94 2.06.94-2.06 2.06-.94-2.06-.94-.94-2.06-.94 2.06-2.06.94zm-11 1L8.5 8.5l.94-2.06 2.06-.94-2.06-.94L8.5 2.5l-.94 2.06-2.06.94zm10 10l.94 2.06.94-2.06 2.06-.94-2.06-.94-.94-2.06-.94 2.06-2.06.94z\"/><path d=\"M17.41 7.96l-1.37-1.37c-.4-.4-.92-.59-1.43-.59-.52 0-1.04.2-1.43.59L10.3 9.45l-7.72 7.72c-.78.78-.78 2.05 0 2.83L4 21.41c.39.39.9.59 1.41.59.51 0 1.02-.2 1.41-.59l7.78-7.78 2.81-2.81c.8-.78.8-2.07 0-2.86zM5.41 20L4 18.59l7.72-7.72 1.47 1.35L5.41 20z\"/>\n",
       "  </svg>\n",
       "      </button>\n",
       "      \n",
       "  <style>\n",
       "    .colab-df-container {\n",
       "      display:flex;\n",
       "      flex-wrap:wrap;\n",
       "      gap: 12px;\n",
       "    }\n",
       "\n",
       "    .colab-df-convert {\n",
       "      background-color: #E8F0FE;\n",
       "      border: none;\n",
       "      border-radius: 50%;\n",
       "      cursor: pointer;\n",
       "      display: none;\n",
       "      fill: #1967D2;\n",
       "      height: 32px;\n",
       "      padding: 0 0 0 0;\n",
       "      width: 32px;\n",
       "    }\n",
       "\n",
       "    .colab-df-convert:hover {\n",
       "      background-color: #E2EBFA;\n",
       "      box-shadow: 0px 1px 2px rgba(60, 64, 67, 0.3), 0px 1px 3px 1px rgba(60, 64, 67, 0.15);\n",
       "      fill: #174EA6;\n",
       "    }\n",
       "\n",
       "    [theme=dark] .colab-df-convert {\n",
       "      background-color: #3B4455;\n",
       "      fill: #D2E3FC;\n",
       "    }\n",
       "\n",
       "    [theme=dark] .colab-df-convert:hover {\n",
       "      background-color: #434B5C;\n",
       "      box-shadow: 0px 1px 3px 1px rgba(0, 0, 0, 0.15);\n",
       "      filter: drop-shadow(0px 1px 2px rgba(0, 0, 0, 0.3));\n",
       "      fill: #FFFFFF;\n",
       "    }\n",
       "  </style>\n",
       "\n",
       "      <script>\n",
       "        const buttonEl =\n",
       "          document.querySelector('#df-c7d2dab4-6974-4f3d-b59d-6b2b15cc3448 button.colab-df-convert');\n",
       "        buttonEl.style.display =\n",
       "          google.colab.kernel.accessAllowed ? 'block' : 'none';\n",
       "\n",
       "        async function convertToInteractive(key) {\n",
       "          const element = document.querySelector('#df-c7d2dab4-6974-4f3d-b59d-6b2b15cc3448');\n",
       "          const dataTable =\n",
       "            await google.colab.kernel.invokeFunction('convertToInteractive',\n",
       "                                                     [key], {});\n",
       "          if (!dataTable) return;\n",
       "\n",
       "          const docLinkHtml = 'Like what you see? Visit the ' +\n",
       "            '<a target=\"_blank\" href=https://colab.research.google.com/notebooks/data_table.ipynb>data table notebook</a>'\n",
       "            + ' to learn more about interactive tables.';\n",
       "          element.innerHTML = '';\n",
       "          dataTable['output_type'] = 'display_data';\n",
       "          await google.colab.output.renderOutput(dataTable, element);\n",
       "          const docLink = document.createElement('div');\n",
       "          docLink.innerHTML = docLinkHtml;\n",
       "          element.appendChild(docLink);\n",
       "        }\n",
       "      </script>\n",
       "    </div>\n",
       "  </div>\n",
       "  "
      ],
      "text/plain": [
       "   Pclass  Survived                                             Name     Sex  \\\n",
       "0       1         1                    Allen, Miss. Elisabeth Walton  female   \n",
       "1       1         1                   Allison, Master. Hudson Trevor    male   \n",
       "2       1         0                     Allison, Miss. Helen Loraine  female   \n",
       "3       1         0             Allison, Mr. Hudson Joshua Creighton    male   \n",
       "4       1         0  Allison, Mrs. Hudson J C (Bessie Waldo Daniels)  female   \n",
       "\n",
       "       Age  SibSp  Parch  Ticket      Fare    Cabin Embarked  \n",
       "0  29.0000      0      0   24160  211.3375       B5        S  \n",
       "1   0.9167      1      2  113781  151.5500  C22 C26        S  \n",
       "2   2.0000      1      2  113781  151.5500  C22 C26        S  \n",
       "3  30.0000      1      2  113781  151.5500  C22 C26        S  \n",
       "4  25.0000      1      2  113781  151.5500  C22 C26        S  "
      ]
     },
     "execution_count": 3,
     "metadata": {},
     "output_type": "execute_result"
    }
   ],
   "source": [
    "df_all.head()"
   ]
  },
  {
   "cell_type": "code",
   "execution_count": 4,
   "metadata": {
    "colab": {
     "base_uri": "https://localhost:8080/",
     "height": 206
    },
    "id": "2qzzK2H4_3s3",
    "outputId": "f3f7e6ff-6420-455a-eb2f-4eb4caedcb7a"
   },
   "outputs": [
    {
     "data": {
      "text/html": [
       "\n",
       "  <div id=\"df-faa3b851-46df-4265-bef4-d9d4d1e5e158\">\n",
       "    <div class=\"colab-df-container\">\n",
       "      <div>\n",
       "<style scoped>\n",
       "    .dataframe tbody tr th:only-of-type {\n",
       "        vertical-align: middle;\n",
       "    }\n",
       "\n",
       "    .dataframe tbody tr th {\n",
       "        vertical-align: top;\n",
       "    }\n",
       "\n",
       "    .dataframe thead th {\n",
       "        text-align: right;\n",
       "    }\n",
       "</style>\n",
       "<table border=\"1\" class=\"dataframe\">\n",
       "  <thead>\n",
       "    <tr style=\"text-align: right;\">\n",
       "      <th></th>\n",
       "      <th>Pclass</th>\n",
       "      <th>Survived</th>\n",
       "      <th>Name</th>\n",
       "      <th>Sex</th>\n",
       "      <th>Age</th>\n",
       "      <th>SibSp</th>\n",
       "      <th>Parch</th>\n",
       "      <th>Ticket</th>\n",
       "      <th>Fare</th>\n",
       "      <th>Cabin</th>\n",
       "      <th>Embarked</th>\n",
       "    </tr>\n",
       "  </thead>\n",
       "  <tbody>\n",
       "    <tr>\n",
       "      <th>1304</th>\n",
       "      <td>3</td>\n",
       "      <td>0</td>\n",
       "      <td>Zabour, Miss. Hileni</td>\n",
       "      <td>female</td>\n",
       "      <td>14.5</td>\n",
       "      <td>1</td>\n",
       "      <td>0</td>\n",
       "      <td>2665</td>\n",
       "      <td>14.4542</td>\n",
       "      <td>NaN</td>\n",
       "      <td>C</td>\n",
       "    </tr>\n",
       "    <tr>\n",
       "      <th>1305</th>\n",
       "      <td>3</td>\n",
       "      <td>0</td>\n",
       "      <td>Zabour, Miss. Thamine</td>\n",
       "      <td>female</td>\n",
       "      <td>NaN</td>\n",
       "      <td>1</td>\n",
       "      <td>0</td>\n",
       "      <td>2665</td>\n",
       "      <td>14.4542</td>\n",
       "      <td>NaN</td>\n",
       "      <td>C</td>\n",
       "    </tr>\n",
       "    <tr>\n",
       "      <th>1306</th>\n",
       "      <td>3</td>\n",
       "      <td>0</td>\n",
       "      <td>Zakarian, Mr. Mapriededer</td>\n",
       "      <td>male</td>\n",
       "      <td>26.5</td>\n",
       "      <td>0</td>\n",
       "      <td>0</td>\n",
       "      <td>2656</td>\n",
       "      <td>7.2250</td>\n",
       "      <td>NaN</td>\n",
       "      <td>C</td>\n",
       "    </tr>\n",
       "    <tr>\n",
       "      <th>1307</th>\n",
       "      <td>3</td>\n",
       "      <td>0</td>\n",
       "      <td>Zakarian, Mr. Ortin</td>\n",
       "      <td>male</td>\n",
       "      <td>27.0</td>\n",
       "      <td>0</td>\n",
       "      <td>0</td>\n",
       "      <td>2670</td>\n",
       "      <td>7.2250</td>\n",
       "      <td>NaN</td>\n",
       "      <td>C</td>\n",
       "    </tr>\n",
       "    <tr>\n",
       "      <th>1308</th>\n",
       "      <td>3</td>\n",
       "      <td>0</td>\n",
       "      <td>Zimmerman, Mr. Leo</td>\n",
       "      <td>male</td>\n",
       "      <td>29.0</td>\n",
       "      <td>0</td>\n",
       "      <td>0</td>\n",
       "      <td>315082</td>\n",
       "      <td>7.8750</td>\n",
       "      <td>NaN</td>\n",
       "      <td>S</td>\n",
       "    </tr>\n",
       "  </tbody>\n",
       "</table>\n",
       "</div>\n",
       "      <button class=\"colab-df-convert\" onclick=\"convertToInteractive('df-faa3b851-46df-4265-bef4-d9d4d1e5e158')\"\n",
       "              title=\"Convert this dataframe to an interactive table.\"\n",
       "              style=\"display:none;\">\n",
       "        \n",
       "  <svg xmlns=\"http://www.w3.org/2000/svg\" height=\"24px\"viewBox=\"0 0 24 24\"\n",
       "       width=\"24px\">\n",
       "    <path d=\"M0 0h24v24H0V0z\" fill=\"none\"/>\n",
       "    <path d=\"M18.56 5.44l.94 2.06.94-2.06 2.06-.94-2.06-.94-.94-2.06-.94 2.06-2.06.94zm-11 1L8.5 8.5l.94-2.06 2.06-.94-2.06-.94L8.5 2.5l-.94 2.06-2.06.94zm10 10l.94 2.06.94-2.06 2.06-.94-2.06-.94-.94-2.06-.94 2.06-2.06.94z\"/><path d=\"M17.41 7.96l-1.37-1.37c-.4-.4-.92-.59-1.43-.59-.52 0-1.04.2-1.43.59L10.3 9.45l-7.72 7.72c-.78.78-.78 2.05 0 2.83L4 21.41c.39.39.9.59 1.41.59.51 0 1.02-.2 1.41-.59l7.78-7.78 2.81-2.81c.8-.78.8-2.07 0-2.86zM5.41 20L4 18.59l7.72-7.72 1.47 1.35L5.41 20z\"/>\n",
       "  </svg>\n",
       "      </button>\n",
       "      \n",
       "  <style>\n",
       "    .colab-df-container {\n",
       "      display:flex;\n",
       "      flex-wrap:wrap;\n",
       "      gap: 12px;\n",
       "    }\n",
       "\n",
       "    .colab-df-convert {\n",
       "      background-color: #E8F0FE;\n",
       "      border: none;\n",
       "      border-radius: 50%;\n",
       "      cursor: pointer;\n",
       "      display: none;\n",
       "      fill: #1967D2;\n",
       "      height: 32px;\n",
       "      padding: 0 0 0 0;\n",
       "      width: 32px;\n",
       "    }\n",
       "\n",
       "    .colab-df-convert:hover {\n",
       "      background-color: #E2EBFA;\n",
       "      box-shadow: 0px 1px 2px rgba(60, 64, 67, 0.3), 0px 1px 3px 1px rgba(60, 64, 67, 0.15);\n",
       "      fill: #174EA6;\n",
       "    }\n",
       "\n",
       "    [theme=dark] .colab-df-convert {\n",
       "      background-color: #3B4455;\n",
       "      fill: #D2E3FC;\n",
       "    }\n",
       "\n",
       "    [theme=dark] .colab-df-convert:hover {\n",
       "      background-color: #434B5C;\n",
       "      box-shadow: 0px 1px 3px 1px rgba(0, 0, 0, 0.15);\n",
       "      filter: drop-shadow(0px 1px 2px rgba(0, 0, 0, 0.3));\n",
       "      fill: #FFFFFF;\n",
       "    }\n",
       "  </style>\n",
       "\n",
       "      <script>\n",
       "        const buttonEl =\n",
       "          document.querySelector('#df-faa3b851-46df-4265-bef4-d9d4d1e5e158 button.colab-df-convert');\n",
       "        buttonEl.style.display =\n",
       "          google.colab.kernel.accessAllowed ? 'block' : 'none';\n",
       "\n",
       "        async function convertToInteractive(key) {\n",
       "          const element = document.querySelector('#df-faa3b851-46df-4265-bef4-d9d4d1e5e158');\n",
       "          const dataTable =\n",
       "            await google.colab.kernel.invokeFunction('convertToInteractive',\n",
       "                                                     [key], {});\n",
       "          if (!dataTable) return;\n",
       "\n",
       "          const docLinkHtml = 'Like what you see? Visit the ' +\n",
       "            '<a target=\"_blank\" href=https://colab.research.google.com/notebooks/data_table.ipynb>data table notebook</a>'\n",
       "            + ' to learn more about interactive tables.';\n",
       "          element.innerHTML = '';\n",
       "          dataTable['output_type'] = 'display_data';\n",
       "          await google.colab.output.renderOutput(dataTable, element);\n",
       "          const docLink = document.createElement('div');\n",
       "          docLink.innerHTML = docLinkHtml;\n",
       "          element.appendChild(docLink);\n",
       "        }\n",
       "      </script>\n",
       "    </div>\n",
       "  </div>\n",
       "  "
      ],
      "text/plain": [
       "      Pclass  Survived                       Name     Sex   Age  SibSp  Parch  \\\n",
       "1304       3         0       Zabour, Miss. Hileni  female  14.5      1      0   \n",
       "1305       3         0      Zabour, Miss. Thamine  female   NaN      1      0   \n",
       "1306       3         0  Zakarian, Mr. Mapriededer    male  26.5      0      0   \n",
       "1307       3         0        Zakarian, Mr. Ortin    male  27.0      0      0   \n",
       "1308       3         0         Zimmerman, Mr. Leo    male  29.0      0      0   \n",
       "\n",
       "      Ticket     Fare Cabin Embarked  \n",
       "1304    2665  14.4542   NaN        C  \n",
       "1305    2665  14.4542   NaN        C  \n",
       "1306    2656   7.2250   NaN        C  \n",
       "1307    2670   7.2250   NaN        C  \n",
       "1308  315082   7.8750   NaN        S  "
      ]
     },
     "execution_count": 4,
     "metadata": {},
     "output_type": "execute_result"
    }
   ],
   "source": [
    "df_all.tail()"
   ]
  },
  {
   "cell_type": "code",
   "execution_count": 5,
   "metadata": {
    "colab": {
     "base_uri": "https://localhost:8080/",
     "height": 237
    },
    "id": "n3PssSZk_rO8",
    "outputId": "41746181-d9f1-41ce-ba29-adeb4155b9be"
   },
   "outputs": [
    {
     "data": {
      "text/html": [
       "\n",
       "  <div id=\"df-d38bc336-40c8-4708-add5-dd49c527df1d\">\n",
       "    <div class=\"colab-df-container\">\n",
       "      <div>\n",
       "<style scoped>\n",
       "    .dataframe tbody tr th:only-of-type {\n",
       "        vertical-align: middle;\n",
       "    }\n",
       "\n",
       "    .dataframe tbody tr th {\n",
       "        vertical-align: top;\n",
       "    }\n",
       "\n",
       "    .dataframe thead th {\n",
       "        text-align: right;\n",
       "    }\n",
       "</style>\n",
       "<table border=\"1\" class=\"dataframe\">\n",
       "  <thead>\n",
       "    <tr style=\"text-align: right;\">\n",
       "      <th></th>\n",
       "      <th>count</th>\n",
       "      <th>mean</th>\n",
       "      <th>std</th>\n",
       "      <th>min</th>\n",
       "      <th>25%</th>\n",
       "      <th>50%</th>\n",
       "      <th>75%</th>\n",
       "      <th>max</th>\n",
       "    </tr>\n",
       "  </thead>\n",
       "  <tbody>\n",
       "    <tr>\n",
       "      <th>Pclass</th>\n",
       "      <td>1309.0</td>\n",
       "      <td>2.294882</td>\n",
       "      <td>0.837836</td>\n",
       "      <td>1.0000</td>\n",
       "      <td>2.0000</td>\n",
       "      <td>3.0000</td>\n",
       "      <td>3.000</td>\n",
       "      <td>3.0000</td>\n",
       "    </tr>\n",
       "    <tr>\n",
       "      <th>Survived</th>\n",
       "      <td>1309.0</td>\n",
       "      <td>0.381971</td>\n",
       "      <td>0.486055</td>\n",
       "      <td>0.0000</td>\n",
       "      <td>0.0000</td>\n",
       "      <td>0.0000</td>\n",
       "      <td>1.000</td>\n",
       "      <td>1.0000</td>\n",
       "    </tr>\n",
       "    <tr>\n",
       "      <th>Age</th>\n",
       "      <td>1046.0</td>\n",
       "      <td>29.881135</td>\n",
       "      <td>14.413500</td>\n",
       "      <td>0.1667</td>\n",
       "      <td>21.0000</td>\n",
       "      <td>28.0000</td>\n",
       "      <td>39.000</td>\n",
       "      <td>80.0000</td>\n",
       "    </tr>\n",
       "    <tr>\n",
       "      <th>SibSp</th>\n",
       "      <td>1309.0</td>\n",
       "      <td>0.498854</td>\n",
       "      <td>1.041658</td>\n",
       "      <td>0.0000</td>\n",
       "      <td>0.0000</td>\n",
       "      <td>0.0000</td>\n",
       "      <td>1.000</td>\n",
       "      <td>8.0000</td>\n",
       "    </tr>\n",
       "    <tr>\n",
       "      <th>Parch</th>\n",
       "      <td>1309.0</td>\n",
       "      <td>0.385027</td>\n",
       "      <td>0.865560</td>\n",
       "      <td>0.0000</td>\n",
       "      <td>0.0000</td>\n",
       "      <td>0.0000</td>\n",
       "      <td>0.000</td>\n",
       "      <td>9.0000</td>\n",
       "    </tr>\n",
       "    <tr>\n",
       "      <th>Fare</th>\n",
       "      <td>1308.0</td>\n",
       "      <td>33.295479</td>\n",
       "      <td>51.758668</td>\n",
       "      <td>0.0000</td>\n",
       "      <td>7.8958</td>\n",
       "      <td>14.4542</td>\n",
       "      <td>31.275</td>\n",
       "      <td>512.3292</td>\n",
       "    </tr>\n",
       "  </tbody>\n",
       "</table>\n",
       "</div>\n",
       "      <button class=\"colab-df-convert\" onclick=\"convertToInteractive('df-d38bc336-40c8-4708-add5-dd49c527df1d')\"\n",
       "              title=\"Convert this dataframe to an interactive table.\"\n",
       "              style=\"display:none;\">\n",
       "        \n",
       "  <svg xmlns=\"http://www.w3.org/2000/svg\" height=\"24px\"viewBox=\"0 0 24 24\"\n",
       "       width=\"24px\">\n",
       "    <path d=\"M0 0h24v24H0V0z\" fill=\"none\"/>\n",
       "    <path d=\"M18.56 5.44l.94 2.06.94-2.06 2.06-.94-2.06-.94-.94-2.06-.94 2.06-2.06.94zm-11 1L8.5 8.5l.94-2.06 2.06-.94-2.06-.94L8.5 2.5l-.94 2.06-2.06.94zm10 10l.94 2.06.94-2.06 2.06-.94-2.06-.94-.94-2.06-.94 2.06-2.06.94z\"/><path d=\"M17.41 7.96l-1.37-1.37c-.4-.4-.92-.59-1.43-.59-.52 0-1.04.2-1.43.59L10.3 9.45l-7.72 7.72c-.78.78-.78 2.05 0 2.83L4 21.41c.39.39.9.59 1.41.59.51 0 1.02-.2 1.41-.59l7.78-7.78 2.81-2.81c.8-.78.8-2.07 0-2.86zM5.41 20L4 18.59l7.72-7.72 1.47 1.35L5.41 20z\"/>\n",
       "  </svg>\n",
       "      </button>\n",
       "      \n",
       "  <style>\n",
       "    .colab-df-container {\n",
       "      display:flex;\n",
       "      flex-wrap:wrap;\n",
       "      gap: 12px;\n",
       "    }\n",
       "\n",
       "    .colab-df-convert {\n",
       "      background-color: #E8F0FE;\n",
       "      border: none;\n",
       "      border-radius: 50%;\n",
       "      cursor: pointer;\n",
       "      display: none;\n",
       "      fill: #1967D2;\n",
       "      height: 32px;\n",
       "      padding: 0 0 0 0;\n",
       "      width: 32px;\n",
       "    }\n",
       "\n",
       "    .colab-df-convert:hover {\n",
       "      background-color: #E2EBFA;\n",
       "      box-shadow: 0px 1px 2px rgba(60, 64, 67, 0.3), 0px 1px 3px 1px rgba(60, 64, 67, 0.15);\n",
       "      fill: #174EA6;\n",
       "    }\n",
       "\n",
       "    [theme=dark] .colab-df-convert {\n",
       "      background-color: #3B4455;\n",
       "      fill: #D2E3FC;\n",
       "    }\n",
       "\n",
       "    [theme=dark] .colab-df-convert:hover {\n",
       "      background-color: #434B5C;\n",
       "      box-shadow: 0px 1px 3px 1px rgba(0, 0, 0, 0.15);\n",
       "      filter: drop-shadow(0px 1px 2px rgba(0, 0, 0, 0.3));\n",
       "      fill: #FFFFFF;\n",
       "    }\n",
       "  </style>\n",
       "\n",
       "      <script>\n",
       "        const buttonEl =\n",
       "          document.querySelector('#df-d38bc336-40c8-4708-add5-dd49c527df1d button.colab-df-convert');\n",
       "        buttonEl.style.display =\n",
       "          google.colab.kernel.accessAllowed ? 'block' : 'none';\n",
       "\n",
       "        async function convertToInteractive(key) {\n",
       "          const element = document.querySelector('#df-d38bc336-40c8-4708-add5-dd49c527df1d');\n",
       "          const dataTable =\n",
       "            await google.colab.kernel.invokeFunction('convertToInteractive',\n",
       "                                                     [key], {});\n",
       "          if (!dataTable) return;\n",
       "\n",
       "          const docLinkHtml = 'Like what you see? Visit the ' +\n",
       "            '<a target=\"_blank\" href=https://colab.research.google.com/notebooks/data_table.ipynb>data table notebook</a>'\n",
       "            + ' to learn more about interactive tables.';\n",
       "          element.innerHTML = '';\n",
       "          dataTable['output_type'] = 'display_data';\n",
       "          await google.colab.output.renderOutput(dataTable, element);\n",
       "          const docLink = document.createElement('div');\n",
       "          docLink.innerHTML = docLinkHtml;\n",
       "          element.appendChild(docLink);\n",
       "        }\n",
       "      </script>\n",
       "    </div>\n",
       "  </div>\n",
       "  "
      ],
      "text/plain": [
       "           count       mean        std     min      25%      50%     75%  \\\n",
       "Pclass    1309.0   2.294882   0.837836  1.0000   2.0000   3.0000   3.000   \n",
       "Survived  1309.0   0.381971   0.486055  0.0000   0.0000   0.0000   1.000   \n",
       "Age       1046.0  29.881135  14.413500  0.1667  21.0000  28.0000  39.000   \n",
       "SibSp     1309.0   0.498854   1.041658  0.0000   0.0000   0.0000   1.000   \n",
       "Parch     1309.0   0.385027   0.865560  0.0000   0.0000   0.0000   0.000   \n",
       "Fare      1308.0  33.295479  51.758668  0.0000   7.8958  14.4542  31.275   \n",
       "\n",
       "               max  \n",
       "Pclass      3.0000  \n",
       "Survived    1.0000  \n",
       "Age        80.0000  \n",
       "SibSp       8.0000  \n",
       "Parch       9.0000  \n",
       "Fare      512.3292  "
      ]
     },
     "execution_count": 5,
     "metadata": {},
     "output_type": "execute_result"
    }
   ],
   "source": [
    "df_all.describe().T"
   ]
  },
  {
   "cell_type": "code",
   "execution_count": 6,
   "metadata": {
    "colab": {
     "base_uri": "https://localhost:8080/"
    },
    "id": "ecZV5iT1zhEe",
    "outputId": "9ea6058c-6f58-4bb2-c419-f637964f72c8"
   },
   "outputs": [
    {
     "name": "stdout",
     "output_type": "stream",
     "text": [
      "Sum of missing values:\n",
      "Pclass         0\n",
      "Survived       0\n",
      "Name           0\n",
      "Sex            0\n",
      "Age          263\n",
      "SibSp          0\n",
      "Parch          0\n",
      "Ticket         0\n",
      "Fare           1\n",
      "Cabin       1014\n",
      "Embarked       2\n",
      "dtype: int64\n",
      "\n",
      " % of missing values:\n",
      "Pclass       0.000000\n",
      "Survived     0.000000\n",
      "Name         0.000000\n",
      "Sex          0.000000\n",
      "Age         20.091673\n",
      "SibSp        0.000000\n",
      "Parch        0.000000\n",
      "Ticket       0.000000\n",
      "Fare         0.076394\n",
      "Cabin       77.463713\n",
      "Embarked     0.152788\n",
      "dtype: float64\n"
     ]
    }
   ],
   "source": [
    "# Display missing values in sum and %\n",
    "print('Sum of missing values:')\n",
    "print(df_all.isna().sum())\n",
    "print('\\n % of missing values:')\n",
    "print(100 * df_all.isnull().sum() / len(df_all))"
   ]
  },
  {
   "cell_type": "markdown",
   "metadata": {
    "id": "0gMg0N-g92Uw"
   },
   "source": [
    "## 2 - Data cleaning & Feature engineering:\n",
    "\n",
    "From the code just above, we can clearly see that: <br>\n",
    "==> 77% of *Cabin* values are missing (1014 rows) <br>\n",
    "==> 20% of *Age* values are missing (263 rows) <br>\n",
    "==> 0.15% of *Embarked* valuesare missing (2 rows) <br>\n",
    "==> 0.07% of Fare is missing (1 row) <br>\n",
    "\n",
    "We will proceed to handling the missing values <br>\n",
    "\n",
    "_______________________________________________________\n",
    "\n",
    "Afterwards we will apply feature engineering on some specific features such as:<br>\n",
    "Age <---------------------> Age_group <br>\n",
    "Cabin <-------------------> Cabin_letter <br>\n",
    "*SibSp & Parch* <------> Relatives \n",
    "\n",
    "**By applying Feature Engineering to exisitng features we aim to create features that will increase the predictive power of our models.**"
   ]
  },
  {
   "cell_type": "code",
   "execution_count": 7,
   "metadata": {
    "colab": {
     "base_uri": "https://localhost:8080/",
     "height": 53
    },
    "id": "hCRnyXFz84UE",
    "outputId": "3f98d781-27d7-4b93-a26b-f30fab529f6d"
   },
   "outputs": [
    {
     "data": {
      "application/vnd.google.colaboratory.intrinsic+json": {
       "type": "string"
      },
      "text/plain": [
       "'\\nWe will fill in the missing data based on the mean value of the Title of each passenger by extracting it from the Name column\\nThose with similar title such as Mlle, Miss will be joined in the same category\\n'"
      ]
     },
     "execution_count": 7,
     "metadata": {},
     "output_type": "execute_result"
    }
   ],
   "source": [
    "# Handling missing data for Age\n",
    "'''\n",
    "We will fill in the missing data based on the mean value of the Title of each passenger by extracting it from the Name column\n",
    "Those with similar title such as Mlle, Miss will be joined in the same category\n",
    "'''"
   ]
  },
  {
   "cell_type": "code",
   "execution_count": 8,
   "metadata": {
    "colab": {
     "base_uri": "https://localhost:8080/"
    },
    "id": "B9YN4LzR_Rc0",
    "outputId": "e55fdc63-a0e2-44f1-9cc3-1ff1e5e2c990"
   },
   "outputs": [
    {
     "name": "stdout",
     "output_type": "stream",
     "text": [
      "[30, 40)    436\n",
      "[20, 30)    395\n",
      "[10, 20)    143\n",
      "[40, 50)    135\n",
      "[0, 10)      90\n",
      "[50, 60)     70\n",
      "[60, 70)     32\n",
      "[70, 80)      7\n",
      "[80, 90)      1\n",
      "Name: Age_group, dtype: int64\n"
     ]
    }
   ],
   "source": [
    "# function will extract the Title from the Name\n",
    "def get_title(name):\n",
    "    names = name.split(', ')\n",
    "    title = names[1].split('.')\n",
    "    return title[0]\n",
    "\n",
    "# apply function to new column 'Title'\n",
    "df_all['Title'] = df_all['Name'].apply(get_title) \n",
    "df_all['Title'].value_counts()\n",
    "\n",
    "#Joining similar titles together\n",
    "mr_titles = ['Capt', 'Col', 'Don', 'Dr', 'Jonkheer', 'Major', 'Mr', 'Rev', 'Sir']\n",
    "mrs_titles = ['Lady', 'the Countess','Mme', 'Mrs', 'Dona']\n",
    "miss_titles = ['Miss', 'Mlle', 'Ms']\n",
    "\n",
    "#Replace by the group of Titles\n",
    "df_all['Title'] = df_all['Title'].replace(mr_titles, 'Mr')\n",
    "df_all['Title'] = df_all['Title'].replace(mrs_titles, 'Mrs')\n",
    "df_all['Title'] = df_all['Title'].replace(miss_titles, 'Miss')\n",
    "\n",
    "# find mean for each distinct title group\n",
    "age = df_all.groupby(\"Title\").agg({'Age': 'mean'})\n",
    "age.rename(columns={'Age': 'MeanAge'}, inplace = True)\n",
    "# merge both age and df_all on Title\n",
    "df_all = df_all.merge(age, on='Title', how='left')\n",
    "\n",
    "#fill missing values\n",
    "df_all['Age'] = df_all['Age'].fillna(df_all['MeanAge'])\n",
    "\n",
    "#drop MeanAge\n",
    "df_all = df_all.drop('MeanAge', axis=1)\n",
    "\n",
    "# Create bins with age groups\n",
    "df_all[\"Age_group\"] = pd.cut(df_all['Age'], bins=range(0, 100, 10), right=False)\n",
    "print(df_all[\"Age_group\"].value_counts())"
   ]
  },
  {
   "cell_type": "code",
   "execution_count": 9,
   "metadata": {
    "colab": {
     "base_uri": "https://localhost:8080/"
    },
    "id": "j6FiqPSzBCbM",
    "outputId": "98f1fab3-e123-4ff8-8516-3eec47039778"
   },
   "outputs": [
    {
     "data": {
      "text/plain": [
       "Unknown    1014\n",
       "C            94\n",
       "B            65\n",
       "D            46\n",
       "E            41\n",
       "A            22\n",
       "F            21\n",
       "G             5\n",
       "T             1\n",
       "Name: Cabin_letter, dtype: int64"
      ]
     },
     "execution_count": 9,
     "metadata": {},
     "output_type": "execute_result"
    }
   ],
   "source": [
    "# Handling missing values in Cabin\n",
    "'''\n",
    "We create new feature *Cabin_letter' which will contain the first letter of each cabin (deck on which passenger is staying)\n",
    " or unknown categoryif no first letter exists\n",
    "'''\n",
    "df_all['Cabin_letter'] = np.NaN\n",
    "df_all['Cabin_letter'] = [c[0] if pd.notna(c) else np.NaN for c in df_all['Cabin']]\n",
    "df_all['Cabin_letter'].value_counts(dropna=False)\n",
    "\n",
    "#add unknown category\n",
    "df_all['Cabin_letter'] = np.where(pd.isna(df_all['Cabin_letter']), 'Unknown', df_all['Cabin_letter'])\n",
    "df_all['Cabin_letter'].value_counts(dropna=False)"
   ]
  },
  {
   "cell_type": "code",
   "execution_count": 10,
   "metadata": {
    "colab": {
     "base_uri": "https://localhost:8080/"
    },
    "id": "bnZI_fwECYNh",
    "outputId": "db0114ee-c581-40a3-d933-b47fd90b04b0"
   },
   "outputs": [
    {
     "data": {
      "text/plain": [
       "S    916\n",
       "C    270\n",
       "Q    123\n",
       "Name: Embarked, dtype: int64"
      ]
     },
     "execution_count": 10,
     "metadata": {},
     "output_type": "execute_result"
    }
   ],
   "source": [
    "# Handling missing values in EMBARKED  ==> 2 missing values we replaced arbitrarily by S which is the most common category\n",
    "\n",
    "df_all.Embarked.value_counts() #S\n",
    "df_all.Embarked.fillna('S', inplace=True)\n",
    "df_all['Embarked'].value_counts()"
   ]
  },
  {
   "cell_type": "code",
   "execution_count": 11,
   "metadata": {
    "colab": {
     "base_uri": "https://localhost:8080/"
    },
    "id": "w5t8AFluCwh8",
    "outputId": "b9bbbacd-b81e-4885-e0a0-0ddc34d35be6"
   },
   "outputs": [
    {
     "name": "stdout",
     "output_type": "stream",
     "text": [
      "8.0500     60\n",
      "13.0000    59\n",
      "7.7500     55\n",
      "26.0000    50\n",
      "7.8958     49\n",
      "           ..\n",
      "15.0500     1\n",
      "14.0000     1\n",
      "15.5792     1\n",
      "12.0000     1\n",
      "7.8750      1\n",
      "Name: Fare, Length: 282, dtype: int64\n"
     ]
    }
   ],
   "source": [
    "# Handling missing value in FARE ==> missing values are arbitrarily replaced by their corresponding fare mean per title. \n",
    "\n",
    "#avg fare per title\n",
    "average_fare = df_all.groupby('Title')['Fare'].mean()\n",
    "\n",
    "#fill missing fare values by the avg fare per title\n",
    "df_all['Fare'] = df_all.groupby('Title')['Fare'].transform(lambda x: x.fillna(x.mean()))\n",
    "print(df_all['Fare'].value_counts())"
   ]
  },
  {
   "cell_type": "code",
   "execution_count": 12,
   "metadata": {
    "colab": {
     "base_uri": "https://localhost:8080/",
     "height": 342
    },
    "id": "9ZT5zjp_A1rI",
    "outputId": "2b3acfd9-6ad7-45fe-8b94-795dd5c8bb7c"
   },
   "outputs": [
    {
     "name": "stdout",
     "output_type": "stream",
     "text": [
      "0     790\n",
      "1     235\n",
      "2     159\n",
      "+3     82\n",
      "3      43\n",
      "Name: Relatives, dtype: int64\n"
     ]
    },
    {
     "data": {
      "text/html": [
       "\n",
       "  <div id=\"df-2e44f81c-dfcb-452f-adaa-5da1c2c2a6ee\">\n",
       "    <div class=\"colab-df-container\">\n",
       "      <div>\n",
       "<style scoped>\n",
       "    .dataframe tbody tr th:only-of-type {\n",
       "        vertical-align: middle;\n",
       "    }\n",
       "\n",
       "    .dataframe tbody tr th {\n",
       "        vertical-align: top;\n",
       "    }\n",
       "\n",
       "    .dataframe thead th {\n",
       "        text-align: right;\n",
       "    }\n",
       "</style>\n",
       "<table border=\"1\" class=\"dataframe\">\n",
       "  <thead>\n",
       "    <tr style=\"text-align: right;\">\n",
       "      <th></th>\n",
       "      <th>Survived</th>\n",
       "    </tr>\n",
       "    <tr>\n",
       "      <th>Relatives</th>\n",
       "      <th></th>\n",
       "    </tr>\n",
       "  </thead>\n",
       "  <tbody>\n",
       "    <tr>\n",
       "      <th>0</th>\n",
       "      <td>0.302532</td>\n",
       "    </tr>\n",
       "    <tr>\n",
       "      <th>1</th>\n",
       "      <td>0.536170</td>\n",
       "    </tr>\n",
       "    <tr>\n",
       "      <th>2</th>\n",
       "      <td>0.566038</td>\n",
       "    </tr>\n",
       "    <tr>\n",
       "      <th>3</th>\n",
       "      <td>0.697674</td>\n",
       "    </tr>\n",
       "    <tr>\n",
       "      <th>+3</th>\n",
       "      <td>0.182927</td>\n",
       "    </tr>\n",
       "  </tbody>\n",
       "</table>\n",
       "</div>\n",
       "      <button class=\"colab-df-convert\" onclick=\"convertToInteractive('df-2e44f81c-dfcb-452f-adaa-5da1c2c2a6ee')\"\n",
       "              title=\"Convert this dataframe to an interactive table.\"\n",
       "              style=\"display:none;\">\n",
       "        \n",
       "  <svg xmlns=\"http://www.w3.org/2000/svg\" height=\"24px\"viewBox=\"0 0 24 24\"\n",
       "       width=\"24px\">\n",
       "    <path d=\"M0 0h24v24H0V0z\" fill=\"none\"/>\n",
       "    <path d=\"M18.56 5.44l.94 2.06.94-2.06 2.06-.94-2.06-.94-.94-2.06-.94 2.06-2.06.94zm-11 1L8.5 8.5l.94-2.06 2.06-.94-2.06-.94L8.5 2.5l-.94 2.06-2.06.94zm10 10l.94 2.06.94-2.06 2.06-.94-2.06-.94-.94-2.06-.94 2.06-2.06.94z\"/><path d=\"M17.41 7.96l-1.37-1.37c-.4-.4-.92-.59-1.43-.59-.52 0-1.04.2-1.43.59L10.3 9.45l-7.72 7.72c-.78.78-.78 2.05 0 2.83L4 21.41c.39.39.9.59 1.41.59.51 0 1.02-.2 1.41-.59l7.78-7.78 2.81-2.81c.8-.78.8-2.07 0-2.86zM5.41 20L4 18.59l7.72-7.72 1.47 1.35L5.41 20z\"/>\n",
       "  </svg>\n",
       "      </button>\n",
       "      \n",
       "  <style>\n",
       "    .colab-df-container {\n",
       "      display:flex;\n",
       "      flex-wrap:wrap;\n",
       "      gap: 12px;\n",
       "    }\n",
       "\n",
       "    .colab-df-convert {\n",
       "      background-color: #E8F0FE;\n",
       "      border: none;\n",
       "      border-radius: 50%;\n",
       "      cursor: pointer;\n",
       "      display: none;\n",
       "      fill: #1967D2;\n",
       "      height: 32px;\n",
       "      padding: 0 0 0 0;\n",
       "      width: 32px;\n",
       "    }\n",
       "\n",
       "    .colab-df-convert:hover {\n",
       "      background-color: #E2EBFA;\n",
       "      box-shadow: 0px 1px 2px rgba(60, 64, 67, 0.3), 0px 1px 3px 1px rgba(60, 64, 67, 0.15);\n",
       "      fill: #174EA6;\n",
       "    }\n",
       "\n",
       "    [theme=dark] .colab-df-convert {\n",
       "      background-color: #3B4455;\n",
       "      fill: #D2E3FC;\n",
       "    }\n",
       "\n",
       "    [theme=dark] .colab-df-convert:hover {\n",
       "      background-color: #434B5C;\n",
       "      box-shadow: 0px 1px 3px 1px rgba(0, 0, 0, 0.15);\n",
       "      filter: drop-shadow(0px 1px 2px rgba(0, 0, 0, 0.3));\n",
       "      fill: #FFFFFF;\n",
       "    }\n",
       "  </style>\n",
       "\n",
       "      <script>\n",
       "        const buttonEl =\n",
       "          document.querySelector('#df-2e44f81c-dfcb-452f-adaa-5da1c2c2a6ee button.colab-df-convert');\n",
       "        buttonEl.style.display =\n",
       "          google.colab.kernel.accessAllowed ? 'block' : 'none';\n",
       "\n",
       "        async function convertToInteractive(key) {\n",
       "          const element = document.querySelector('#df-2e44f81c-dfcb-452f-adaa-5da1c2c2a6ee');\n",
       "          const dataTable =\n",
       "            await google.colab.kernel.invokeFunction('convertToInteractive',\n",
       "                                                     [key], {});\n",
       "          if (!dataTable) return;\n",
       "\n",
       "          const docLinkHtml = 'Like what you see? Visit the ' +\n",
       "            '<a target=\"_blank\" href=https://colab.research.google.com/notebooks/data_table.ipynb>data table notebook</a>'\n",
       "            + ' to learn more about interactive tables.';\n",
       "          element.innerHTML = '';\n",
       "          dataTable['output_type'] = 'display_data';\n",
       "          await google.colab.output.renderOutput(dataTable, element);\n",
       "          const docLink = document.createElement('div');\n",
       "          docLink.innerHTML = docLinkHtml;\n",
       "          element.appendChild(docLink);\n",
       "        }\n",
       "      </script>\n",
       "    </div>\n",
       "  </div>\n",
       "  "
      ],
      "text/plain": [
       "           Survived\n",
       "Relatives          \n",
       "0          0.302532\n",
       "1          0.536170\n",
       "2          0.566038\n",
       "3          0.697674\n",
       "+3         0.182927"
      ]
     },
     "execution_count": 12,
     "metadata": {},
     "output_type": "execute_result"
    }
   ],
   "source": [
    "'''\n",
    "Both Features *SibSp* & *Parch* describe the number of either sibling/spouse or parent/children\n",
    "we create a new feature *Relatives* based on both features that will count the number of relatives for each passenger\n",
    "This feature will contain the number of relatives if it's 3 or below\n",
    "Above 3 it will contain value +3\n",
    "'''\n",
    "\n",
    "df_all['Relatives'] = df_all['SibSp'] + df_all['Parch']\n",
    "df_all['Relatives'].replace([4,5,6,7,8,9,10], '+3', inplace=True)\n",
    "print(df_all['Relatives'].value_counts())\n",
    "\n",
    "\n",
    "df_all.groupby('Relatives')['Survived'].mean().to_frame()"
   ]
  },
  {
   "cell_type": "code",
   "execution_count": 13,
   "metadata": {
    "colab": {
     "base_uri": "https://localhost:8080/"
    },
    "id": "40odeawCDCDW",
    "outputId": "394efe2f-0871-4a6d-f529-57f3603b48f5"
   },
   "outputs": [
    {
     "name": "stdout",
     "output_type": "stream",
     "text": [
      "unknown_categ             1127\n",
      "ticket_root PC              92\n",
      "ticket_root C.A.            46\n",
      "ticket_root SOTON/O.Q.      16\n",
      "ticket_root W./C.           14\n",
      "ticket_root STON/O          14\n",
      "Name: Ticket_2, dtype: int64\n"
     ]
    }
   ],
   "source": [
    "'''\n",
    "The feature \"Ticket\" represents the ticket reservation number.  \n",
    "We chose to isolate the \"root value\" of each ticket reservation (everything behind the first space) as we found repetition of the roots for some tickets. \n",
    "Interestingly, the selected roots (we selected all roots who have +13 occurences) have particular survivals ditribution, with often a high survival rate. \n",
    "This feature will contain the ticket root if it has +13 occurences.\n",
    "Otherwise, it will be considered as \"Unknown category\". \n",
    "'''\n",
    "\n",
    "df_all.Ticket\n",
    "df_all[['Ticket_A', 'Ticket_B', 'Ticket_C']]= df_all['Ticket'].str.split(' ', expand=True)\n",
    "liste_ticket_root_to_categorize = list(df_all['Ticket_A'].value_counts()[df_all['Ticket_A'].value_counts()> 13].keys())\n",
    "df_all['Ticket_2'] = ['ticket_root '+str(a) if a in liste_ticket_root_to_categorize else 'unknown_categ' for a in df_all['Ticket_A']]\n",
    "print(df_all['Ticket_2'].value_counts())"
   ]
  },
  {
   "cell_type": "markdown",
   "metadata": {
    "id": "pNSCBfwVGCY-"
   },
   "source": [
    "## 3 - Exploratory Data Analysis :"
   ]
  },
  {
   "cell_type": "markdown",
   "metadata": {
    "id": "snDAyM3lPvvw"
   },
   "source": [
    "Survivals by gender"
   ]
  },
  {
   "cell_type": "code",
   "execution_count": 14,
   "metadata": {
    "colab": {
     "base_uri": "https://localhost:8080/",
     "height": 506
    },
    "id": "8grpbQ0hEOER",
    "outputId": "6b1589cf-52c3-4af4-bda9-c0667bb0a3ab"
   },
   "outputs": [
    {
     "data": {
      "image/png": "[encoded data removed]",
      "text/plain": [
       "<Figure size 864x360 with 2 Axes>"
      ]
     },
     "metadata": {
      "needs_background": "light"
     },
     "output_type": "display_data"
    },
    {
     "name": "stdout",
     "output_type": "stream",
     "text": [
      "% of passengers by gender: \n",
      " male      64.400306\n",
      "female    35.599694\n",
      "Name: Sex, dtype: float64\n",
      "\n",
      "% of passengers by survival: \n",
      " 0    61.802903\n",
      "1    38.197097\n",
      "Name: Survived, dtype: float64\n"
     ]
    }
   ],
   "source": [
    "# figure with 2 subplots\n",
    "fig, axs = plt.subplots(1, 2, figsize=(12, 5))\n",
    "\n",
    "#repartition by gender\n",
    "sns.countplot(x='Sex', data=df_all, ax=axs[0], palette=\"muted\").set(title='Passengers reparition by gender')\n",
    "# reparititon by survival\n",
    "sns.countplot(x='Survived', data=df_all, ax=axs[1], palette=\"muted\").set(title='Passengers reparition by Survival')\n",
    "# Adjust the spacing \n",
    "plt.subplots_adjust(wspace=0.25)\n",
    "# Show the plot\n",
    "plt.show()\n",
    "\n",
    "'''\n",
    "we can see from the first chart that male passenger exceed female passengers in the ship 64.5% compared to 35.5\n",
    "from the second plot we can see that deaths (0) far exceed the survivals in the ship [only 38% survived]\n",
    "'''\n",
    "# % gender repartition among passengers\n",
    "print('% of passengers by gender: \\n',df_all['Sex'].value_counts() / df_all['Sex'].value_counts().sum() *100)\n",
    "# % of survivals among passengers\n",
    "print('\\n% of passengers by survival: \\n',df_all['Survived'].value_counts() / df_all['Survived'].value_counts().sum() *100)"
   ]
  },
  {
   "cell_type": "code",
   "execution_count": 15,
   "metadata": {
    "colab": {
     "base_uri": "https://localhost:8080/",
     "height": 647
    },
    "id": "QSCV4AbGJhCJ",
    "outputId": "1caa6097-7eb9-4153-e903-c1e420feb30e"
   },
   "outputs": [
    {
     "name": "stdout",
     "output_type": "stream",
     "text": [
      "# of survivals by gender:\n",
      " Sex     Survived\n",
      "female  0           127\n",
      "        1           339\n",
      "male    0           682\n",
      "        1           161\n",
      "Name: Survived, dtype: int64 \n",
      " \n",
      " % of Survivals by gender:\n",
      " Survived      0      1\n",
      "Sex                   \n",
      "female    27.25  72.75\n",
      "male      80.90  19.10\n",
      "All       61.80  38.20\n"
     ]
    },
    {
     "data": {
      "image/png": "[encoded data removed]",
      "text/plain": [
       "<Figure size 576x432 with 1 Axes>"
      ]
     },
     "metadata": {
      "needs_background": "light"
     },
     "output_type": "display_data"
    }
   ],
   "source": [
    "# survivals by gender \n",
    "fig, ax = plt.subplots(figsize=(8, 6))\n",
    "sns.countplot(x='Sex', hue='Survived', data=df_all, palette=\"muted\").set(title='Survival repartition by gender')\n",
    "'''\n",
    "we can clearly see from the figure below that ==> more male died (80%) compared to 27% of female deaths eventhough the ship had more male passengers than female ones\n",
    "one possible explanation is that male passengers were not prioritized for taking a lifeboats and had to wait until women and children were evacuated\n",
    "'''\n",
    "sum_group = df_all.groupby(['Sex', 'Survived'])['Survived'].count()\n",
    "percent_group = pd.crosstab(df_all['Sex'], df_all['Survived'], margins=True,normalize='index')*100\n",
    "percent_group = percent_group.round(2)\n",
    "\n",
    "print('# of survivals by gender:\\n',sum_group, '\\n \\n % of Survivals by gender:\\n', percent_group)"
   ]
  },
  {
   "cell_type": "markdown",
   "metadata": {
    "id": "6VfDP3pjP26t"
   },
   "source": [
    "*Survivals per class*"
   ]
  },
  {
   "cell_type": "code",
   "execution_count": 16,
   "metadata": {
    "colab": {
     "base_uri": "https://localhost:8080/",
     "height": 576
    },
    "id": "IaEmX7u8GbF5",
    "outputId": "ad6315ac-f93c-4f88-a17e-35c5103dc975"
   },
   "outputs": [
    {
     "data": {
      "image/png": "[encoded data removed]",
      "text/plain": [
       "<Figure size 864x360 with 2 Axes>"
      ]
     },
     "metadata": {
      "needs_background": "light"
     },
     "output_type": "display_data"
    },
    {
     "name": "stdout",
     "output_type": "stream",
     "text": [
      "# of passengers by Pclass: \n",
      " 3    709\n",
      "1    323\n",
      "2    277\n",
      "Name: Pclass, dtype: int64\n",
      "\n",
      " % of survivals by class category: \n",
      " Survived      0      1\n",
      "Pclass                \n",
      "1         38.08  61.92\n",
      "2         57.04  42.96\n",
      "3         74.47  25.53\n",
      "All       61.80  38.20\n"
     ]
    }
   ],
   "source": [
    "fig, axs = plt.subplots(1, 2, figsize=(12, 5))\n",
    "# repartition of passenger per class category\n",
    "sns.countplot(x='Pclass', data=df_all, ax=axs[0], palette=\"muted\").set(title='Passenger reparition by class category')\n",
    "#Survival by ticket class category\n",
    "sns.countplot(x = 'Pclass', hue = 'Survived', data = df_all, ax=axs[1], palette=\"muted\").set(title='Survival repartition by class category')\n",
    "# Adjust the spacing \n",
    "plt.subplots_adjust(wspace=0.25)\n",
    "# Show the plot\n",
    "plt.show()\n",
    "\n",
    "'''\n",
    "We can see that category 3 had far more passengers (709) compared to the upper 1st class who had 277 passengers\n",
    "However 1st class is the only class whose survivals exceeded its deaths.. The gap is far more apparent in the 3rd class (74.5% deaths)\n",
    "This could be possibly explained by the fact that the 1st class passengers had higher cabins in the ship meaning that they had more time and easier access to lifeboats\n",
    "There could be a possible correlation but it doesn't necessarily mean causality !!\n",
    "'''\n",
    "print('# of passengers by Pclass: \\n',df_all['Pclass'].value_counts())\n",
    "percent_group = pd.crosstab(df_all['Pclass'], df_all['Survived'], margins=True,normalize='index')*100\n",
    "percent_group = percent_group.round(2)\n",
    "\n",
    "print('\\n % of survivals by class category: \\n', percent_group)"
   ]
  },
  {
   "cell_type": "markdown",
   "metadata": {
    "id": "hk_B0UobUPJg"
   },
   "source": [
    "*Survivals by Age groups*"
   ]
  },
  {
   "cell_type": "code",
   "execution_count": 17,
   "metadata": {
    "colab": {
     "base_uri": "https://localhost:8080/",
     "height": 1000
    },
    "id": "zy_pYNBbNWFW",
    "outputId": "76711538-8556-4e7a-d2ce-f664fa0a1edc"
   },
   "outputs": [
    {
     "name": "stdout",
     "output_type": "stream",
     "text": [
      "# of passengers by Age group: \n",
      " [30, 40)    436\n",
      "[20, 30)    395\n",
      "[10, 20)    143\n",
      "[40, 50)    135\n",
      "[0, 10)      90\n",
      "[50, 60)     70\n",
      "[60, 70)     32\n",
      "[70, 80)      7\n",
      "[80, 90)      1\n",
      "Name: Age_group, dtype: int64\n",
      "\n",
      " % of survivals by Age group: \n",
      " Survived       0       1\n",
      "Age_group               \n",
      "[0, 10)    41.11   58.89\n",
      "[10, 20)   60.84   39.16\n",
      "[20, 30)   60.25   39.75\n",
      "[30, 40)   68.35   31.65\n",
      "[40, 50)   61.48   38.52\n",
      "[50, 60)   54.29   45.71\n",
      "[60, 70)   68.75   31.25\n",
      "[70, 80)   85.71   14.29\n",
      "[80, 90)    0.00  100.00\n",
      "All        61.80   38.20\n"
     ]
    },
    {
     "data": {
      "image/png": "[encoded data removed]",
      "text/plain": [
       "<Figure size 864x360 with 1 Axes>"
      ]
     },
     "metadata": {
      "needs_background": "light"
     },
     "output_type": "display_data"
    },
    {
     "data": {
      "image/png": "[encoded data removed]",
      "text/plain": [
       "<Figure size 411.875x360 with 1 Axes>"
      ]
     },
     "metadata": {
      "needs_background": "light"
     },
     "output_type": "display_data"
    }
   ],
   "source": [
    "fig, ax = plt.subplots(figsize=(12, 5))\n",
    "# repartition of passenger by age\n",
    "sns.countplot(x='Age_group', data=df_all, palette=\"muted\").set(title='Passenger reparition by age')\n",
    "\n",
    "#survival by age group\n",
    "sns.displot(data=df_all, x='Age', hue='Survived', stat='density', element='step',binwidth=10).set(title='Survival by Age group')\n",
    "\n",
    "'''\n",
    "1st plot show that groups [20, 30) & [30, 40] were among the most passengers in the ship\n",
    "The second figure shows that these same groups had the highest levels of deaths\n",
    "It also shows that except [0, 10) children all other age categories suffered more deaths ==> one possible explanation is that children were prioritized for taking a lifeboat\n",
    "'''\n",
    "print('# of passengers by Age group: \\n',df_all['Age_group'].value_counts())\n",
    "percent_group = pd.crosstab(df_all['Age_group'], df_all['Survived'], margins=True,normalize='index')*100\n",
    "percent_group = percent_group.round(2)\n",
    "\n",
    "print('\\n % of survivals by Age group: \\n',percent_group)"
   ]
  },
  {
   "cell_type": "markdown",
   "metadata": {
    "id": "fyZjzrQ4UXR0"
   },
   "source": [
    " *Survivals by relatives*"
   ]
  },
  {
   "cell_type": "code",
   "execution_count": 18,
   "metadata": {
    "colab": {
     "base_uri": "https://localhost:8080/",
     "height": 645
    },
    "id": "OvsfvS1cQAVZ",
    "outputId": "f5ed8d75-57bf-43af-e58a-a1cf39accfe7"
   },
   "outputs": [
    {
     "name": "stdout",
     "output_type": "stream",
     "text": [
      "# of relatives: \n",
      " 0     790\n",
      "1     235\n",
      "2     159\n",
      "+3     82\n",
      "3      43\n",
      "Name: Relatives, dtype: int64\n",
      "\n",
      "% of survivals by relatives: \n",
      " Survived       0      1\n",
      "Relatives              \n",
      "0          69.75  30.25\n",
      "1          46.38  53.62\n",
      "2          43.40  56.60\n",
      "3          30.23  69.77\n",
      "+3         81.71  18.29\n",
      "All        61.80  38.20\n"
     ]
    },
    {
     "data": {
      "image/png": "[encoded data removed]",
      "text/plain": [
       "<Figure size 864x360 with 1 Axes>"
      ]
     },
     "metadata": {
      "needs_background": "light"
     },
     "output_type": "display_data"
    }
   ],
   "source": [
    "# Survival by relatives on board\n",
    "fig, ax = plt.subplots(figsize=(12, 5))\n",
    "sns.countplot(x = 'Relatives', hue = 'Survived', data = df_all, palette=\"muted\").set(title=\"Survival repartition by passengers' relatives\")\n",
    "\n",
    "'''\n",
    "We can see that passengers on the ship who had no relatives aboard represent the biggest population of passengers\n",
    "This same category suffered from almost 70% deaths :\n",
    "one possible explanation is that this category of passengers has a high numbers of poorer people who had less access \n",
    "to lifeboats and/or men who were not prioritized for the lifeboats\n",
    "\n",
    "\n",
    "The only two passengers types who had more deaths than survivals are those who had no passengers (which is the majority in the ship)\n",
    "and those who had over 3 relatives aboard ==> *One possible explanation* is that having more family meant more \n",
    "time searching for them and/or deciding to stay all together\n",
    "and not abandon one another by consequence having more trouble finding a lifeboat to fit all members. \n",
    "\n",
    "THE INTERPRETATION HIGHLIGHT A POSSIBLE CORRELATION BUT NOT NECESSARILY A CAUSATION !\n",
    "'''\n",
    "\n",
    "print('# of relatives: \\n',df_all['Relatives'].value_counts())\n",
    "percent_group = pd.crosstab(df_all['Relatives'], df_all['Survived'], margins=True,normalize='index')*100\n",
    "percent_group = percent_group.round(2)\n",
    "\n",
    "print('\\n% of survivals by relatives: \\n',percent_group)"
   ]
  },
  {
   "cell_type": "markdown",
   "metadata": {
    "id": "HfGwH-lDcSpC"
   },
   "source": [
    "*Survivals by Embarked*"
   ]
  },
  {
   "cell_type": "code",
   "execution_count": 19,
   "metadata": {
    "colab": {
     "base_uri": "https://localhost:8080/",
     "height": 612
    },
    "id": "8NOdborJUNRE",
    "outputId": "34c18872-541a-4835-8096-30fb8a8202a2"
   },
   "outputs": [
    {
     "data": {
      "image/png": "[encoded data removed]",
      "text/plain": [
       "<Figure size 864x360 with 2 Axes>"
      ]
     },
     "metadata": {
      "needs_background": "light"
     },
     "output_type": "display_data"
    },
    {
     "name": "stdout",
     "output_type": "stream",
     "text": [
      "# of passengers per harbour: \n",
      " S    916\n",
      "C    270\n",
      "Q    123\n",
      "Name: Embarked, dtype: int64\n",
      "\n",
      "% of survivals per harbour: \n",
      " Survived      0      1\n",
      "Embarked              \n",
      "C         44.44  55.56\n",
      "Q         64.23  35.77\n",
      "S         66.59  33.41\n",
      "All       61.80  38.20\n"
     ]
    },
    {
     "data": {
      "application/vnd.google.colaboratory.intrinsic+json": {
       "type": "string"
      },
      "text/plain": [
       "'\\nIt is pretty clear that from Southampton port far more passengers boarded the Titanic\\nThe second plot shows a POSSIBLE correlation between survivals and Cherbourg port and between deaths and other two ports ==> but this correlation DOES NOT MEAN CAUSATION !!\\n'"
      ]
     },
     "execution_count": 19,
     "metadata": {},
     "output_type": "execute_result"
    }
   ],
   "source": [
    "fig, axs = plt.subplots(1, 2, figsize=(12, 5))\n",
    "# passengers per Embarked gate\n",
    "sns.countplot(x='Embarked', data=df_all, ax=axs[0], palette=\"muted\").set(title='Passengers / Embarked')\n",
    "#Survival by embarked category\n",
    "sns.countplot(x = 'Embarked', hue = 'Survived', data = df_all, ax=axs[1], palette=\"muted\").set(title='Survival repartition by Embarked Category')\n",
    "# Adjust the spacing \n",
    "plt.subplots_adjust(wspace=0.25)\n",
    "# Show the plot\n",
    "plt.show()\n",
    "\n",
    "print('# of passengers per harbour: \\n',df_all['Embarked'].value_counts())\n",
    "percent_group = pd.crosstab(df_all['Embarked'], df_all['Survived'], margins=True,normalize='index')*100\n",
    "percent_group = percent_group.round(2)\n",
    "\n",
    "print('\\n% of survivals per harbour: \\n',percent_group)\n",
    "\n",
    "'''\n",
    "It is pretty clear that from Southampton port far more passengers boarded the Titanic\n",
    "The second plot shows a POSSIBLE correlation between survivals and Cherbourg port and between deaths and other two ports ==> but this correlation DOES NOT MEAN CAUSATION !!\n",
    "'''\n"
   ]
  },
  {
   "cell_type": "markdown",
   "metadata": {
    "id": "zf8Q9VN37_wR"
   },
   "source": [
    "Survivals per ticket root"
   ]
  },
  {
   "cell_type": "code",
   "execution_count": 20,
   "metadata": {
    "colab": {
     "base_uri": "https://localhost:8080/",
     "height": 662
    },
    "id": "iY5HIXSt7-_o",
    "outputId": "57dcde63-7b37-4454-cbd5-24b1db0c999d"
   },
   "outputs": [
    {
     "data": {
      "image/png": "[encoded data removed]",
      "text/plain": [
       "<Figure size 1872x360 with 2 Axes>"
      ]
     },
     "metadata": {
      "needs_background": "light"
     },
     "output_type": "display_data"
    },
    {
     "name": "stdout",
     "output_type": "stream",
     "text": [
      "# of passengers by Ticket root: \n",
      " unknown_categ             1127\n",
      "ticket_root PC              92\n",
      "ticket_root C.A.            46\n",
      "ticket_root SOTON/O.Q.      16\n",
      "ticket_root W./C.           14\n",
      "ticket_root STON/O          14\n",
      "Name: Ticket_2, dtype: int64\n",
      "\n",
      " % of survivals by ticket root: \n",
      " Survived                    0      1\n",
      "Ticket_2                            \n",
      "ticket_root C.A.        54.35  45.65\n",
      "ticket_root PC          36.96  63.04\n",
      "ticket_root SOTON/O.Q.  87.50  12.50\n",
      "ticket_root STON/O      64.29  35.71\n",
      "ticket_root W./C.       78.57  21.43\n",
      "unknown_categ           63.53  36.47\n",
      "All                     61.80  38.20\n"
     ]
    }
   ],
   "source": [
    "fig, axs = plt.subplots(1, 2, figsize=(26, 5))\n",
    "# passengers per Embarked gate\n",
    "sns.countplot(x='Ticket_2', data=df_all, ax=axs[0], palette=\"muted\").set(title='Passengers / Ticket root')\n",
    "#Survival by embarked category\n",
    "sns.countplot(x = 'Ticket_2', hue = 'Survived', data = df_all, ax=axs[1], palette=\"muted\").set(title='Survival repartition by Ticket root')\n",
    "# Adjust the spacing \n",
    "plt.subplots_adjust(wspace=0.15)\n",
    "# Show the plot\n",
    "plt.show()\n",
    "\n",
    "'''\n",
    "We can see that we have a lot more passengers considered as \"unknown category\" in ticket root. \n",
    "The reason why we chose to keep this feature (despite the high number of unknown) is that, for the selected category, the survival rate is very specific to the selected category.  \n",
    "'''\n",
    "print('# of passengers by Ticket root: \\n',df_all['Ticket_2'].value_counts())\n",
    "percent_group = pd.crosstab(df_all['Ticket_2'], df_all['Survived'], margins=True,normalize='index')*100\n",
    "percent_group = percent_group.round(2)\n",
    "\n",
    "print('\\n % of survivals by ticket root: \\n', percent_group)"
   ]
  },
  {
   "cell_type": "code",
   "execution_count": 21,
   "metadata": {
    "colab": {
     "base_uri": "https://localhost:8080/",
     "height": 570
    },
    "id": "QpAvK2IxcgWl",
    "outputId": "3e401ed0-74c5-4a73-f801-b632f9dae8fa"
   },
   "outputs": [
    {
     "data": {
      "image/png": "[encoded data removed]",
      "text/plain": [
       "<Figure size 1080x576 with 2 Axes>"
      ]
     },
     "metadata": {
      "needs_background": "light"
     },
     "output_type": "display_data"
    },
    {
     "data": {
      "application/vnd.google.colaboratory.intrinsic+json": {
       "type": "string"
      },
      "text/plain": [
       "'\\nThere is a positive correlation between Survived and Fare, meaning that as fare increases the chances of survivals also increase, \\nthe correlation is negative between Survived and Pclass meaning lowers classes decreases survivals chances.\\nThere is a negative but logical correlation between Fare and Pclass, meaning as Fare increases the class category decrease (i.e: fare increases with the first class)\\nThere is positive correlation between SibSp and Parch meaning that both features increases together (having more siblings and spouses means having more parent/ children aboard)\\n'"
      ]
     },
     "execution_count": 21,
     "metadata": {},
     "output_type": "execute_result"
    }
   ],
   "source": [
    "# Heatmap showing correlation between the different features in the dataset\n",
    "# The heatmap below shows the correlation between the features but this DOESN'T MEAN A CAUSALITY !\n",
    "\n",
    "plt.figure(figsize=(15,8))\n",
    "sns.heatmap(df_all.corr(), annot=True, cmap='coolwarm')\n",
    "plt.title(\"Correlation between dataset features\")\n",
    "plt.show()\n",
    "\n",
    "'''\n",
    "There is a positive correlation between Survived and Fare, meaning that as fare increases the chances of survivals also increase, \n",
    "the correlation is negative between Survived and Pclass meaning lowers classes decreases survivals chances.\n",
    "There is a negative but logical correlation between Fare and Pclass, meaning as Fare increases the class category decrease (i.e: fare increases with the first class)\n",
    "There is positive correlation between SibSp and Parch meaning that both features increases together (having more siblings and spouses means having more parent/ children aboard)\n",
    "'''"
   ]
  },
  {
   "cell_type": "code",
   "execution_count": 22,
   "metadata": {
    "id": "2Czy64ZmjR1M"
   },
   "outputs": [],
   "source": [
    "# Finally we will group the feature we are interested in, in a final dataframe\n",
    "df_final = df_all.loc[:,['Survived', 'Pclass', 'Sex', 'Embarked', 'Age', 'Cabin_letter', 'Relatives',  'Fare', 'Title', 'Ticket_2']] "
   ]
  },
  {
   "cell_type": "markdown",
   "metadata": {
    "id": "EG0x2HEbjHEB"
   },
   "source": [
    "# III.Classification models:\n"
   ]
  },
  {
   "cell_type": "code",
   "execution_count": 23,
   "metadata": {
    "id": "Kxmw1PWQiUuI"
   },
   "outputs": [],
   "source": [
    "# We start by one-hot encoding ==> converting categorical features into binary variables \n",
    "df_dt = pd.get_dummies(df_final, columns=['Pclass', 'Sex', 'Embarked', 'Age', 'Cabin_letter', 'Relatives',  'Fare', 'Title', 'Ticket_2'])"
   ]
  },
  {
   "cell_type": "code",
   "execution_count": 24,
   "metadata": {
    "id": "DkmC7fA7kLL1"
   },
   "outputs": [],
   "source": [
    "# Get dependent variables and features\n",
    "X = df_dt.drop(columns=['Survived'])\n",
    "y = df_dt['Survived']"
   ]
  },
  {
   "cell_type": "code",
   "execution_count": 25,
   "metadata": {
    "id": "mreozLoHkrW9"
   },
   "outputs": [],
   "source": [
    "# Split the data into training and testing sets 80/20, fixing random state in order to reproduce results\n",
    "X_train, X_test, y_train, y_test = train_test_split(X, y, test_size=0.2, random_state=2)"
   ]
  },
  {
   "cell_type": "markdown",
   "metadata": {
    "id": "XA2u6rFLk2Ik"
   },
   "source": [
    "## 1 - Decision Tree:"
   ]
  },
  {
   "cell_type": "code",
   "execution_count": 86,
   "metadata": {
    "colab": {
     "base_uri": "https://localhost:8080/",
     "height": 383
    },
    "id": "uZJLv-Arkw1M",
    "outputId": "8cef1764-af25-4e90-a135-59e1779e647b"
   },
   "outputs": [
    {
     "name": "stdout",
     "output_type": "stream",
     "text": [
      "Accuracy: 87.02%\n",
      "Precision: 81.93%\n",
      "Recall: 78.16%\n",
      "F1-score : 80.00%\n",
      "\n",
      "Decision tree report: \n",
      "               precision    recall  f1-score   support\n",
      "\n",
      "           0       0.89      0.91      0.90       175\n",
      "           1       0.82      0.78      0.80        87\n",
      "\n",
      "    accuracy                           0.87       262\n",
      "   macro avg       0.86      0.85      0.85       262\n",
      "weighted avg       0.87      0.87      0.87       262\n",
      "\n"
     ]
    },
    {
     "data": {
      "application/vnd.google.colaboratory.intrinsic+json": {
       "type": "string"
      },
      "text/plain": [
       "\"\\nwith an accuracy (TP +TN /all) of 87.02% ---> the model makes mostly correct predictions (TP + TN) \\nbut still makes false predictions 13% of the time\\n\\nPrecision (TP/TP+FP) of 81.93 % ---> model makes mostly correct true positive predicitions\\nout of all positive predictions made by the model, the model can correctly identify over 80% of the truly positive values\\n\\nRecall (TP/TP+FN) ---> our decision tree model can identify 78% of the actual surviving passengers and 91% of truly dead passengers. \\n(i.e: 22% of those who survived were classified dead by the model and 9% of those\\nwho died were classified as survived by the same model).\\n\\nF1-score ---> is a measure of the harmonic mean of precision and recall so it takes into account both\\nthe false positive and false negative predictions made. a F1-score of 80% (sor surviving passengers) and 90% for (for dead passengers)\\nmeans that the decision tree succesfully identified an important amount of death/survived passengers however it still not perfect at giving precise predicitions.\\n\\nFrom the metrics in the report below, we can clearly see that overall the Decision Tree model made better predictions\\nfor deaths that it did for the surviving passengers. which could be mainly due to the amount of 'dead' passengers data that it was trained on \\nfar exceeding the amount of 'surviving' data so it made the model classifies easily one over the other.\\n\""
      ]
     },
     "execution_count": 86,
     "metadata": {},
     "output_type": "execute_result"
    }
   ],
   "source": [
    "# init decision tree\n",
    "dt = DecisionTreeClassifier(random_state=91)\n",
    "\n",
    "# fit the decision tree\n",
    "dt.fit(X_train, y_train)\n",
    "\n",
    "# predict using model based on test data\n",
    "y_pred = dt.predict(X_test)\n",
    "\n",
    "# Decision tree metrics\n",
    "dt_accuracy = accuracy_score(y_test, y_pred)\n",
    "dt_precision = precision_score(y_test, y_pred)\n",
    "dt_recall = recall_score(y_test, y_pred)\n",
    "dt_f1 = f1_score(y_test, y_pred)\n",
    "dt_cm = confusion_matrix(y_test, y_pred)\n",
    "dt_cr = classification_report(y_test, y_pred)\n",
    "\n",
    "print(\"Accuracy: {:.2f}%\".format(dt_accuracy * 100))\n",
    "print(\"Precision: {:.2f}%\".format(dt_precision * 100))\n",
    "print(\"Recall: {:.2f}%\".format(dt_recall * 100))\n",
    "print(\"F1-score : {:.2f}%\".format(dt_f1 * 100))\n",
    "print(\"\\nDecision tree report: \\n\",dt_cr)\n",
    "\n",
    "'''\n",
    "with an accuracy (TP +TN /all) of 87.02% ---> the model makes mostly correct predictions (TP + TN) \n",
    "but still makes false predictions 13% of the time\n",
    "\n",
    "Precision (TP/TP+FP) of 81.93 % ---> model makes mostly correct true positive predicitions\n",
    "out of all positive predictions made by the model, the model can correctly identify over 80% of the truly positive values\n",
    "\n",
    "Recall (TP/TP+FN) ---> our decision tree model can identify 78% of the actual surviving passengers and 91% of truly dead passengers. \n",
    "(i.e: 22% of those who survived were classified dead by the model and 9% of those\n",
    "who died were classified as survived by the same model).\n",
    "\n",
    "F1-score ---> is a measure of the harmonic mean of precision and recall so it takes into account both\n",
    "the false positive and false negative predictions made. a F1-score of 80% (sor surviving passengers) and 90% for (for dead passengers)\n",
    "means that the decision tree succesfully identified an important amount of death/survived passengers however it still not perfect at giving precise predicitions.\n",
    "\n",
    "From the metrics in the report below, we can clearly see that overall the Decision Tree model made better predictions\n",
    "for deaths that it did for the surviving passengers. which could be mainly due to the amount of 'dead' passengers data that it was trained on \n",
    "far exceeding the amount of 'surviving' data so it made the model classifies easily one over the other.\n",
    "'''"
   ]
  },
  {
   "cell_type": "code",
   "execution_count": 70,
   "metadata": {
    "colab": {
     "base_uri": "https://localhost:8080/",
     "height": 456
    },
    "id": "-6VxpGTss4oN",
    "outputId": "58ea37c3-729b-462b-fced-99383e6a8e4c"
   },
   "outputs": [
    {
     "name": "stdout",
     "output_type": "stream",
     "text": [
      "\n",
      "Confusion Matrix: \n",
      " [[160  15]\n",
      " [ 19  68]]\n"
     ]
    },
    {
     "data": {
      "image/png": "[encoded data removed]",
      "text/plain": [
       "<Figure size 720x360 with 2 Axes>"
      ]
     },
     "metadata": {
      "needs_background": "light"
     },
     "output_type": "display_data"
    },
    {
     "data": {
      "application/vnd.google.colaboratory.intrinsic+json": {
       "type": "string"
      },
      "text/plain": [
       "'\\nConfusion matrix to visually display the metric value of (TP, TN, FP, FN)\\nOut of all predicitions the TP(160) represents the biggest value followed by TN (68)\\nHowever, the model still made error, predicting 15 of deaths as survived\\nand prediciting 19 of survived passengers as death. \\n'"
      ]
     },
     "execution_count": 70,
     "metadata": {},
     "output_type": "execute_result"
    }
   ],
   "source": [
    "# Confusion Matrix\n",
    "print(\"\\nConfusion Matrix: \\n\",dt_cm)\n",
    "\n",
    "# Plot CM\n",
    "plt.figure(figsize=(10,5))\n",
    "plt.title(\"Decision Tree Confusion Matrix\")\n",
    "sns.heatmap(dt_cm, annot=True, cmap='Blues', fmt='d')\n",
    "plt.xlabel('Predicted values')\n",
    "plt.ylabel('Real values')\n",
    "plt.show()\n",
    "\n",
    "'''\n",
    "Confusion matrix to visually display the metric value of (TP, TN, FP, FN)\n",
    "Out of all predicitions the TP(160) represents the biggest value followed by TN (68)\n",
    "However, the model still made error, predicting 15 of deaths as survived\n",
    "and prediciting 19 of survived passengers as death. \n",
    "'''"
   ]
  },
  {
   "cell_type": "code",
   "execution_count": 71,
   "metadata": {
    "colab": {
     "base_uri": "https://localhost:8080/",
     "height": 71
    },
    "id": "MbW4RlNguTq3",
    "outputId": "690e43d3-338a-4a17-97e3-ad5e43cd55a8"
   },
   "outputs": [
    {
     "name": "stdout",
     "output_type": "stream",
     "text": [
      "AUC-ROC = 0.85\n"
     ]
    },
    {
     "data": {
      "application/vnd.google.colaboratory.intrinsic+json": {
       "type": "string"
      },
      "text/plain": [
       "'\\nWe have an AUC-ROC score of 0.85 ---> closer to 1 which means that the decision tree\\nhad classified correctly most of the (death passengers) data\\nwhich is consistent with what we found above on the difference in the metrics between survived:1 and dead:0\\n'"
      ]
     },
     "execution_count": 71,
     "metadata": {},
     "output_type": "execute_result"
    }
   ],
   "source": [
    "# AUC - ROC\n",
    "#predict_proba ==> the probability that a particular data point falls into each class\n",
    "#get predicted proba of survived = 1 \n",
    "y_pred_proba = dt.predict_proba(X_test)[:, 1] \n",
    "dt_auc = roc_auc_score(y_test, y_pred_proba)\n",
    "print(\"AUC-ROC = {:.2f}\".format(dt_auc))\n",
    "\n",
    "'''\n",
    "We have an AUC-ROC score of 0.85 ---> closer to 1 which means that the decision tree\n",
    "had classified correctly most of the (death passengers) data\n",
    "which is consistent with what we found above on the difference in the metrics between survived:1 and dead:0\n",
    "'''"
   ]
  },
  {
   "cell_type": "code",
   "execution_count": 72,
   "metadata": {
    "colab": {
     "base_uri": "https://localhost:8080/",
     "height": 369
    },
    "id": "y53HDbGYMsfG",
    "outputId": "6d4cb7b4-0134-42cc-f9aa-59abe7dff238"
   },
   "outputs": [
    {
     "data": {
      "application/vnd.google.colaboratory.intrinsic+json": {
       "type": "string"
      },
      "text/plain": [
       "'\\nThe ROC curve below indicates is far from the diagonal which indicates that our classifier does\\na fairly good but not perfect job at classifiying the data.\\n'"
      ]
     },
     "execution_count": 72,
     "metadata": {},
     "output_type": "execute_result"
    },
    {
     "data": {
      "image/png": "[encoded data removed]",
      "text/plain": [
       "<Figure size 360x360 with 1 Axes>"
      ]
     },
     "metadata": {
      "needs_background": "light"
     },
     "output_type": "display_data"
    }
   ],
   "source": [
    "def plot_sklearn_roc_curve(y_real, y_pred):\n",
    "    '''\n",
    "    Plots the ROC Curve with the sklearn methods by using the real observations and their predictions.\n",
    "    \n",
    "    Args:\n",
    "        y_real: The list or series with the real classes\n",
    "        y_pred: The list or series with the predicted classes\n",
    "    '''\n",
    "    fpr, tpr, th = roc_curve(y_real, y_pred)\n",
    "    roc_display = RocCurveDisplay(fpr=fpr, tpr=tpr).plot()\n",
    "    roc_display.figure_.set_size_inches(5,5)\n",
    "    plt.title('ROC curve for Decision Tree')\n",
    "    plt.plot([0, 1], [0, 1], 'k--')\n",
    "\n",
    "\n",
    "# Plots the ROC curve using the sklearn methods\n",
    "plot_sklearn_roc_curve(y_test, y_pred_proba)\n",
    "\n",
    "'''\n",
    "The ROC curve below indicates is far from the diagonal which indicates that our classifier does\n",
    "a fairly good but not perfect job at classifiying the data.\n",
    "'''"
   ]
  },
  {
   "cell_type": "code",
   "execution_count": 73,
   "metadata": {
    "colab": {
     "base_uri": "https://localhost:8080/",
     "height": 575
    },
    "id": "Nhgn0DQtpI7h",
    "outputId": "25364f70-1d15-4aec-cc64-1862eea95c11"
   },
   "outputs": [
    {
     "data": {
      "image/png": "[encoded data removed]",
      "text/plain": [
       "<Figure size 1800x720 with 1 Axes>"
      ]
     },
     "metadata": {
      "needs_background": "light"
     },
     "output_type": "display_data"
    }
   ],
   "source": [
    "#Visualizing the decision tree\n",
    "plt.figure(figsize=(25,10))\n",
    "plot_tree(dt, filled=True)\n",
    "plt.show()"
   ]
  },
  {
   "cell_type": "markdown",
   "metadata": {
    "id": "NQxd034t1mym"
   },
   "source": [
    "## 2 - Random Forest:"
   ]
  },
  {
   "cell_type": "code",
   "execution_count": 74,
   "metadata": {
    "colab": {
     "base_uri": "https://localhost:8080/",
     "height": 383
    },
    "id": "udqy-padsSbs",
    "outputId": "c828c9ea-7a1c-4214-d971-6a64b31cb905"
   },
   "outputs": [
    {
     "name": "stdout",
     "output_type": "stream",
     "text": [
      "Accuracy: 86.64%\n",
      "Precision: 84.21%\n",
      "Recall: 73.56%\n",
      "F1-score : 78.53%\n",
      "\n",
      "Random Forest report: \n",
      "               precision    recall  f1-score   support\n",
      "\n",
      "           0       0.88      0.93      0.90       175\n",
      "           1       0.84      0.74      0.79        87\n",
      "\n",
      "    accuracy                           0.87       262\n",
      "   macro avg       0.86      0.83      0.84       262\n",
      "weighted avg       0.86      0.87      0.86       262\n",
      "\n"
     ]
    },
    {
     "data": {
      "application/vnd.google.colaboratory.intrinsic+json": {
       "type": "string"
      },
      "text/plain": [
       "\"\\nwith an accuracy (TP +TN /all) of 86.6% ---> the model makes mostly correct predictions (TP + TN) \\nbut still makes false predictions 13.4% of the time\\n\\nPrecision (TP/TP+FP) of 84 % ---> model makes mostly correct true positive predicitions\\nout of all positive predictions made by the model, the model can correctly identify over 84% 'survived' and 88% of deaths.\\n\\nRecall (TP/TP+FN) ---> our RF model can identify 74% of the actual survived values and 93% of deaths. It means that the model \\nwrongly classifies 26% of surviving passengers as dead (i.e: 26% of those who survived were classified dead by the model and 7% of those\\nwho died were classified as survived by the same model).\\n\\nF1-score ---> is a measure of the harmonic mean of precision and recall so it takes into account both\\nthe false positive and false negative predictions made. a F1-score of 79% (for survived) and 90% (for deaths means) that the Random forest succesfully identified \\nan important amount of death/survived passengers however it still not perfect at giving precise predicitions.\\n\\nFrom the metrics  in the report below, we can clearly see that overall the Random Forest model made better predictions\\nfor deaths that it did for the surviving passengers. \\n\""
      ]
     },
     "execution_count": 74,
     "metadata": {},
     "output_type": "execute_result"
    }
   ],
   "source": [
    "# init RF Classifier with # of trees\n",
    "rf = RandomForestClassifier(n_estimators=300, random_state = 36)\n",
    "\n",
    "# train/fit the Random Forest\n",
    "rf.fit(X_train, y_train)\n",
    "\n",
    "#predict\n",
    "y_pred_rf = rf.predict(X_test)\n",
    "\n",
    "\n",
    "# Random Forest metrics\n",
    "rf_accuracy = accuracy_score(y_test, y_pred_rf)\n",
    "rf_precision = precision_score(y_test, y_pred_rf)\n",
    "rf_recall = recall_score(y_test, y_pred_rf)\n",
    "rf_f1 = f1_score(y_test, y_pred_rf)\n",
    "rf_cm = confusion_matrix(y_test, y_pred_rf)\n",
    "rf_cr = classification_report(y_test, y_pred_rf)\n",
    "\n",
    "print(\"Accuracy: {:.2f}%\".format(rf_accuracy * 100))\n",
    "print(\"Precision: {:.2f}%\".format(rf_precision * 100))\n",
    "print(\"Recall: {:.2f}%\".format(rf_recall * 100))\n",
    "print(\"F1-score : {:.2f}%\".format(rf_f1 * 100))\n",
    "print(\"\\nRandom Forest report: \\n\",rf_cr)\n",
    "\n",
    "\n",
    "'''\n",
    "with an accuracy (TP +TN /all) of 86.6% ---> the model makes mostly correct predictions (TP + TN) \n",
    "but still makes false predictions 13.4% of the time\n",
    "\n",
    "Precision (TP/TP+FP) of 84 % ---> model makes mostly correct true positive predicitions\n",
    "out of all positive predictions made by the model, the model can correctly identify over 84% 'survived' and 88% of deaths.\n",
    "\n",
    "Recall (TP/TP+FN) ---> our RF model can identify 74% of the actual survived values and 93% of deaths. It means that the model \n",
    "wrongly classifies 26% of surviving passengers as dead (i.e: 26% of those who survived were classified dead by the model and 7% of those\n",
    "who died were classified as survived by the same model).\n",
    "\n",
    "F1-score ---> is a measure of the harmonic mean of precision and recall so it takes into account both\n",
    "the false positive and false negative predictions made. a F1-score of 79% (for survived) and 90% (for deaths means) that the Random forest succesfully identified \n",
    "an important amount of death/survived passengers however it still not perfect at giving precise predicitions.\n",
    "\n",
    "From the metrics  in the report below, we can clearly see that overall the Random Forest model made better predictions\n",
    "for deaths that it did for the surviving passengers. \n",
    "'''"
   ]
  },
  {
   "cell_type": "code",
   "execution_count": 75,
   "metadata": {
    "colab": {
     "base_uri": "https://localhost:8080/",
     "height": 456
    },
    "id": "Ha2ar-5PTAKE",
    "outputId": "409c776d-d861-4c9d-ec6b-9a2e1c35d14a"
   },
   "outputs": [
    {
     "name": "stdout",
     "output_type": "stream",
     "text": [
      "\n",
      "Confusion Matrix: \n",
      " [[160  15]\n",
      " [ 19  68]]\n"
     ]
    },
    {
     "data": {
      "image/png": "[encoded data removed]",
      "text/plain": [
       "<Figure size 720x360 with 2 Axes>"
      ]
     },
     "metadata": {
      "needs_background": "light"
     },
     "output_type": "display_data"
    },
    {
     "data": {
      "application/vnd.google.colaboratory.intrinsic+json": {
       "type": "string"
      },
      "text/plain": [
       "'\\nConfusion matrix to visually display the metric value of (TP, TN, FP, FN)\\nOut of all predicitions the TP(161: those who effectively died) represents the biggest value followed by TN (64: those who actually survived)\\nHowever, the model still made error, predicting 12 of deaths as survived\\nand prediciting 23 of survived passengers as death. \\n'"
      ]
     },
     "execution_count": 75,
     "metadata": {},
     "output_type": "execute_result"
    }
   ],
   "source": [
    "# Confusion Matrix\n",
    "print(\"\\nConfusion Matrix: \\n\",dt_cm)\n",
    "\n",
    "# Plot CM\n",
    "plt.figure(figsize=(10,5))\n",
    "plt.title(\"Random Forest Confusion Matrix\")\n",
    "sns.heatmap(rf_cm, annot=True, cmap='Blues', fmt='d')\n",
    "plt.xlabel('Predicted values')\n",
    "plt.ylabel('Real values')\n",
    "plt.show()\n",
    "\n",
    "'''\n",
    "Confusion matrix to visually display the metric value of (TP, TN, FP, FN)\n",
    "Out of all predicitions the TP(161: those who effectively died) represents the biggest value followed by TN (64: those who actually survived)\n",
    "However, the model still made error, predicting 12 of deaths as survived\n",
    "and prediciting 23 of survived passengers as death. \n",
    "'''"
   ]
  },
  {
   "cell_type": "markdown",
   "metadata": {
    "id": "jO4SRlXAfzQv"
   },
   "source": [
    "## 3 - Random forest w/ Bagging:"
   ]
  },
  {
   "cell_type": "code",
   "execution_count": 85,
   "metadata": {
    "colab": {
     "base_uri": "https://localhost:8080/",
     "height": 383
    },
    "id": "BTvnt-aGaJh4",
    "outputId": "e20509d6-c386-4244-a222-8f5a362df2c4"
   },
   "outputs": [
    {
     "name": "stdout",
     "output_type": "stream",
     "text": [
      "Accuracy: 87.02%\n",
      "Precision: 85.33%\n",
      "Recall: 73.56%\n",
      "F1-score : 79.01%\n",
      "\n",
      "Random Forest report: \n",
      "               precision    recall  f1-score   support\n",
      "\n",
      "           0       0.88      0.94      0.91       175\n",
      "           1       0.85      0.74      0.79        87\n",
      "\n",
      "    accuracy                           0.87       262\n",
      "   macro avg       0.87      0.84      0.85       262\n",
      "weighted avg       0.87      0.87      0.87       262\n",
      "\n"
     ]
    },
    {
     "data": {
      "application/vnd.google.colaboratory.intrinsic+json": {
       "type": "string"
      },
      "text/plain": [
       "\"\\nWe can see that the best accuracy 87% was achieved with Random forest Bagging\\n---> meaning that the model made mostly accurate predictions\\n\\nThe precision of the model is also over 85% \\n---> meaning that the classifier here made 85% of accurate predicitions for 'survived:1' and over 88% for 'survived:0' over all the positive predictions made by the model.\\n\\nThe recall is 73.56 %\\n---> meaning that out of all the truly positive values(TP + FN), the model made a recall of 74% for those who actually survived and 94% of those who died. \\n\\nThe F1-score is 79%\\n---> We got a score of 79% for those who survived and 91% for deaths, meaning that the Random Forest Bagging model correctly identified a good amount \\nof passengers surval state, while making more precise predictions for deaths than survivals. However, this model is still not perfectly prediciting all values.\\nF1-score ---> is a measure of the harmonic mean of precision and recall so it takes into account both\\n\\nFrom our analysis and the metrics in the report below, we can clearly see that overall the Random Forest Bagging model made better predictions\\nfor deaths that it did for the surviving passengers. \\n\""
      ]
     },
     "execution_count": 85,
     "metadata": {},
     "output_type": "execute_result"
    }
   ],
   "source": [
    "# We test now a Bagging Classifier with the Random Forest from above \n",
    "# Our goal is to test out if the model performance will improve by using multiple RF classifiers with different training subsets\n",
    "# Init Bagging Classifier w/ Random Forest\n",
    "rfb = BaggingClassifier(base_estimator=RandomForestClassifier(n_estimators=300, random_state=1), n_estimators=60, random_state=2, bootstrap=True, n_jobs=-1)\n",
    "\n",
    "# Fit RFB classifier\n",
    "rfb.fit(X_train, y_train)\n",
    "\n",
    "# Make predictions on the test set\n",
    "y_pred_rfb = rfb.predict(X_test)\n",
    "\n",
    "\n",
    "# RF bagging metrics\n",
    "rfb_accuracy = accuracy_score(y_test, y_pred_rfb)\n",
    "rfb_precision = precision_score(y_test, y_pred_rfb)\n",
    "rfb_recall = recall_score(y_test, y_pred_rfb)\n",
    "rfb_f1 = f1_score(y_test, y_pred_rfb)\n",
    "rfb_cm = confusion_matrix(y_test, y_pred_rfb)\n",
    "rfb_cr = classification_report(y_test, y_pred_rfb)\n",
    "\n",
    "print(\"Accuracy: {:.2f}%\".format(rfb_accuracy * 100))\n",
    "print(\"Precision: {:.2f}%\".format(rfb_precision * 100))\n",
    "print(\"Recall: {:.2f}%\".format(rfb_recall * 100))\n",
    "print(\"F1-score : {:.2f}%\".format(rfb_f1 * 100))\n",
    "print(\"\\nRandom Forest report: \\n\",rfb_cr)\n",
    "\n",
    "'''\n",
    "We can see that the best accuracy 87% was achieved with Random forest Bagging\n",
    "---> meaning that the model made mostly accurate predictions\n",
    "\n",
    "The precision of the model is also over 85% \n",
    "---> meaning that the classifier here made 85% of accurate predicitions for 'survived:1' and over 88% for 'survived:0' over all the positive predictions made by the model.\n",
    "\n",
    "The recall is 73.56 %\n",
    "---> meaning that out of all the truly positive values(TP + FN), the model made a recall of 74% for those who actually survived and 94% of those who died. \n",
    "\n",
    "The F1-score is 79%\n",
    "---> We got a score of 79% for those who survived and 91% for deaths, meaning that the Random Forest Bagging model correctly identified a good amount \n",
    "of passengers surval state, while making more precise predictions for deaths than survivals. However, this model is still not perfectly prediciting all values.\n",
    "F1-score ---> is a measure of the harmonic mean of precision and recall so it takes into account both\n",
    "\n",
    "From our analysis and the metrics in the report below, we can clearly see that overall the Random Forest Bagging model made better predictions\n",
    "for deaths that it did for the surviving passengers. \n",
    "'''"
   ]
  },
  {
   "cell_type": "code",
   "execution_count": 77,
   "metadata": {
    "colab": {
     "base_uri": "https://localhost:8080/",
     "height": 456
    },
    "id": "bPatHRv5i_pm",
    "outputId": "6c424fcc-d8e6-403b-f116-f8a620b99935"
   },
   "outputs": [
    {
     "name": "stdout",
     "output_type": "stream",
     "text": [
      "\n",
      "Confusion Matrix: \n",
      " [[160  15]\n",
      " [ 19  68]]\n"
     ]
    },
    {
     "data": {
      "image/png": "[encoded data removed]",
      "text/plain": [
       "<Figure size 720x360 with 2 Axes>"
      ]
     },
     "metadata": {
      "needs_background": "light"
     },
     "output_type": "display_data"
    },
    {
     "data": {
      "application/vnd.google.colaboratory.intrinsic+json": {
       "type": "string"
      },
      "text/plain": [
       "'\\nConfusion matrix to visually display the metric value of (TP, TN, FP, FN)\\nWe can see that the Random Forest w/ Bagging has a higher value of TP and TN compared to both models above (Decision Tree & Random Forest)\\n'"
      ]
     },
     "execution_count": 77,
     "metadata": {},
     "output_type": "execute_result"
    }
   ],
   "source": [
    "# Confusion Matrix\n",
    "print(\"\\nConfusion Matrix: \\n\",dt_cm)\n",
    "\n",
    "# Plot CM\n",
    "plt.figure(figsize=(10,5))\n",
    "plt.title(\"Random Forest w/ Bagging Confusion Matrix\")\n",
    "sns.heatmap(rfb_cm, annot=True, cmap='Blues', fmt='d')\n",
    "plt.xlabel('Predicted values')\n",
    "plt.ylabel('Real values')\n",
    "plt.show()\n",
    "\n",
    "'''\n",
    "Confusion matrix to visually display the metric value of (TP, TN, FP, FN)\n",
    "We can see that the Random Forest w/ Bagging has a higher value of TP and TN compared to both models above (Decision Tree & Random Forest)\n",
    "'''"
   ]
  },
  {
   "cell_type": "markdown",
   "metadata": {
    "id": "52F_WQF43cdM"
   },
   "source": [
    "## 4 - K-Nearest Neighbor:"
   ]
  },
  {
   "cell_type": "code",
   "execution_count": 78,
   "metadata": {
    "colab": {
     "base_uri": "https://localhost:8080/",
     "height": 331
    },
    "id": "nlh9XySq3ntj",
    "outputId": "c9ca1fec-3f2e-42fb-b775-bc7ead61f4c8"
   },
   "outputs": [
    {
     "data": {
      "image/png": "[encoded data removed]",
      "text/plain": [
       "<Figure size 432x288 with 1 Axes>"
      ]
     },
     "metadata": {
      "needs_background": "light"
     },
     "output_type": "display_data"
    },
    {
     "data": {
      "application/vnd.google.colaboratory.intrinsic+json": {
       "type": "string"
      },
      "text/plain": [
       "\"\\nkNN is a nonparametric model. It means it doesn't have parameters to penalize or drop. As the main point of regularization is preventing overfitting, we can here\\nincrease the k number as it leads to averaging over many points instead of memorizing the training set as in k=1. In this specific case, testing accuracy is maximized for k=3. \\n\""
      ]
     },
     "execution_count": 78,
     "metadata": {},
     "output_type": "execute_result"
    }
   ],
   "source": [
    "## Here we want to check how many neighbors we need to select for our model to have the best accuracy. \n",
    "\n",
    "neighbors = np.arange(start=1, stop=20, step=1)\n",
    "train_accuracy = []\n",
    "test_accuracy = []\n",
    "\n",
    "# Loop over different values of k\n",
    "for i in neighbors:\n",
    "    # Setup a k-NN Classifier with i neighbors\n",
    "    knn = KNeighborsClassifier(n_neighbors=i)\n",
    "\n",
    "    # Fit the classifier to the training data\n",
    "    knn.fit(X_train, y_train)\n",
    "    \n",
    "    #Compute accuracy on the training and testig set\n",
    "    train_accuracy.append(knn.score(X_train, y_train))\n",
    "    test_accuracy.append(knn.score(X_test, y_test))\n",
    "\n",
    "# Generate plot\n",
    "plt.title('k-NN: Varying Number of Neighbors')\n",
    "plt.plot(neighbors, test_accuracy, label = 'Testing Accuracy')\n",
    "plt.plot(neighbors, train_accuracy, label = 'Training Accuracy')\n",
    "plt.legend()\n",
    "plt.xlabel('Number of Neighbors')\n",
    "plt.ylabel('Accuracy')\n",
    "plt.show()\n",
    "\n",
    "'''\n",
    "kNN is a nonparametric model. It means it doesn't have parameters to penalize or drop. As the main point of regularization is preventing overfitting, we can here\n",
    "increase the k number as it leads to averaging over many points instead of memorizing the training set as in k=1. In this specific case, testing accuracy is maximized for k=3. \n",
    "'''"
   ]
  },
  {
   "cell_type": "code",
   "execution_count": 79,
   "metadata": {
    "colab": {
     "base_uri": "https://localhost:8080/",
     "height": 348
    },
    "id": "Ms4VAkkRJ9IM",
    "outputId": "9e6afa0c-4ab3-41fd-88c4-17c6537347f0"
   },
   "outputs": [
    {
     "name": "stdout",
     "output_type": "stream",
     "text": [
      "Accuracy: 85.11%\n",
      "Precision: 81.58%\n",
      "Recall: 71.26%\n",
      "F1-score : 76.07%\n",
      "\n",
      "KNN report: \n",
      "               precision    recall  f1-score   support\n",
      "\n",
      "           0       0.87      0.92      0.89       175\n",
      "           1       0.82      0.71      0.76        87\n",
      "\n",
      "    accuracy                           0.85       262\n",
      "   macro avg       0.84      0.82      0.83       262\n",
      "weighted avg       0.85      0.85      0.85       262\n",
      "\n"
     ]
    },
    {
     "data": {
      "application/vnd.google.colaboratory.intrinsic+json": {
       "type": "string"
      },
      "text/plain": [
       "'\\nWith an accuracy (TP +TN /all) of 85.11% ---> the model makes mostly correct predictions (TP + TN) \\nbut still makes false predictions 15% of the time\\nPrecision (TP/TP+FP) of 81.58 % ---> model makes mostly correct true positive predicitions \\nRecall (TP/TP+FN) ---> our KNN model can identify 71.26% of the actual positive values. meaning that 29% of truly positive \\nvalue are not successfully predicted\\nF1-score is the harmonic mean of precision and recall. In this specific case, our model is much more powerful at predicting \\ndeath people than alive people. \\n'"
      ]
     },
     "execution_count": 79,
     "metadata": {},
     "output_type": "execute_result"
    }
   ],
   "source": [
    "# We therefore decide to choose n_neighbors=3 as it maximises the accuracy on our testing set. \n",
    "knn = KNeighborsClassifier(n_neighbors=3)\n",
    "\n",
    "# Fit the classifier to the training data\n",
    "knn.fit(X_train, y_train)\n",
    "y_pred = knn.predict(X_test)\n",
    "\n",
    "#Compute evaluation metrics on the training and testing sets\n",
    "knn_accuracy = accuracy_score(y_test, y_pred)\n",
    "knn_precision = precision_score(y_test, y_pred)\n",
    "knn_recall = recall_score(y_test, y_pred)\n",
    "knn_f1 = f1_score(y_test, y_pred)\n",
    "knn_cm = confusion_matrix(y_test, y_pred)\n",
    "knn_cr = classification_report(y_test, y_pred)\n",
    "\n",
    "print(\"Accuracy: {:.2f}%\".format(knn_accuracy * 100))\n",
    "print(\"Precision: {:.2f}%\".format(knn_precision * 100))\n",
    "print(\"Recall: {:.2f}%\".format(knn_recall * 100))\n",
    "print(\"F1-score : {:.2f}%\".format(knn_f1 * 100))\n",
    "print(\"\\nKNN report: \\n\",knn_cr)\n",
    "\n",
    "'''\n",
    "With an accuracy (TP +TN /all) of 85.11% ---> the model makes mostly correct predictions (TP + TN) \n",
    "but still makes false predictions 15% of the time\n",
    "Precision (TP/TP+FP) of 81.58 % ---> model makes mostly correct true positive predicitions \n",
    "Recall (TP/TP+FN) ---> our KNN model can identify 71.26% of the actual positive values. meaning that 29% of truly positive \n",
    "value are not successfully predicted\n",
    "F1-score is the harmonic mean of precision and recall. In this specific case, our model is much more powerful at predicting \n",
    "death people than alive people. \n",
    "'''"
   ]
  },
  {
   "cell_type": "markdown",
   "metadata": {
    "id": "WtkDS98UDsqq"
   },
   "source": [
    "## 5 - Logistic Regression"
   ]
  },
  {
   "cell_type": "code",
   "execution_count": 80,
   "metadata": {
    "colab": {
     "base_uri": "https://localhost:8080/"
    },
    "id": "S8jhr97kAPdw",
    "outputId": "41f05b8f-3ca5-4609-9241-c99dcc11f22f"
   },
   "outputs": [
    {
     "name": "stdout",
     "output_type": "stream",
     "text": [
      "Tuned Logistic Regression Parameters: {'C': 3.727593720314938}\n"
     ]
    }
   ],
   "source": [
    "## hyperparameter optimization\n",
    "\n",
    "# Here we want to define a search space as a grid of hyperparameter values and evaluate every position in the grid.\n",
    "# Setup the hyperparameter grid\n",
    "c_space = np.logspace(-5, 8, 15)\n",
    "param_grid = {'C': c_space}\n",
    "\n",
    "logreg = LogisticRegression()\n",
    "logreg.fit(X_train, y_train)\n",
    "\n",
    "# We say that we want to determine the C value for which our model accuracy is maximized. \n",
    "logreg_cv = GridSearchCV(logreg, param_grid, cv=5, scoring='accuracy')\n",
    "\n",
    "logreg_cv.fit(X_train,y_train)\n",
    "print(\"Tuned Logistic Regression Parameters: {}\".format(logreg_cv.best_params_))\n",
    "#print(logreg_cv.cv_results_) # -> The following will give us many measures such as the mean fit time for each cv, and the mean test core for each C and for each split. "
   ]
  },
  {
   "cell_type": "code",
   "execution_count": 81,
   "metadata": {
    "colab": {
     "base_uri": "https://localhost:8080/",
     "height": 348
    },
    "id": "-1Nbw-vPD2oX",
    "outputId": "5d81368a-daf3-4c09-87ca-aaacfc66323a"
   },
   "outputs": [
    {
     "name": "stdout",
     "output_type": "stream",
     "text": [
      "Accuracy: 83.21%\n",
      "Precision: 74.16%\n",
      "Recall: 75.86%\n",
      "F1-score : 75.00%\n",
      "\n",
      "LG report: \n",
      "               precision    recall  f1-score   support\n",
      "\n",
      "           0       0.88      0.87      0.87       175\n",
      "           1       0.74      0.76      0.75        87\n",
      "\n",
      "    accuracy                           0.83       262\n",
      "   macro avg       0.81      0.81      0.81       262\n",
      "weighted avg       0.83      0.83      0.83       262\n",
      "\n"
     ]
    },
    {
     "data": {
      "application/vnd.google.colaboratory.intrinsic+json": {
       "type": "string"
      },
      "text/plain": [
       "\"\\nWith an accuracy (TP +TN /all) of 83.21% ---> the model makes mostly correct predictions (TP + TN) \\nbut still makes false predictions 17% of the time\\nPrecision (TP/TP+FP) of 74.16 % ---> model makes mostly correct true positive predicitions but it's definitely not a high score.  \\nRecall (TP/TP+FN) ---> our logreg model can identify 75.86% of the actual positive values. meaning that 24% of truly positive \\nvalue are not successfully predicted.\\nF1-score is the harmonic mean of precision and recall. In this specific case, our model is much more powerful at predicting \\ndeath people than alive people.  \\n\""
      ]
     },
     "execution_count": 81,
     "metadata": {},
     "output_type": "execute_result"
    }
   ],
   "source": [
    "logreg = LogisticRegression(penalty='l2', C=list(logreg_cv.best_params_.values())[0])\n",
    "logreg.fit(X_train, y_train)\n",
    "y_pred = logreg.predict(X_test)\n",
    "\n",
    "#Compute evaluation metrics on the training and testing sets\n",
    "lg_accuracy = accuracy_score(y_test, y_pred)\n",
    "lg_precision = precision_score(y_test, y_pred)\n",
    "lg_recall = recall_score(y_test, y_pred)\n",
    "lg_f1 = f1_score(y_test, y_pred)\n",
    "lg_cm = confusion_matrix(y_test, y_pred)\n",
    "lg_cr = classification_report(y_test, y_pred)\n",
    "\n",
    "print(\"Accuracy: {:.2f}%\".format(lg_accuracy * 100))\n",
    "print(\"Precision: {:.2f}%\".format(lg_precision * 100))\n",
    "print(\"Recall: {:.2f}%\".format(lg_recall * 100))\n",
    "print(\"F1-score : {:.2f}%\".format(lg_f1 * 100))\n",
    "print(\"\\nLG report: \\n\",lg_cr)\n",
    "\n",
    "'''\n",
    "With an accuracy (TP +TN /all) of 83.21% ---> the model makes mostly correct predictions (TP + TN) \n",
    "but still makes false predictions 17% of the time\n",
    "Precision (TP/TP+FP) of 74.16 % ---> model makes mostly correct true positive predicitions but it's definitely not a high score.  \n",
    "Recall (TP/TP+FN) ---> our logreg model can identify 75.86% of the actual positive values. meaning that 24% of truly positive \n",
    "value are not successfully predicted.\n",
    "F1-score is the harmonic mean of precision and recall. In this specific case, our model is much more powerful at predicting \n",
    "death people than alive people.  \n",
    "'''"
   ]
  },
  {
   "cell_type": "markdown",
   "metadata": {
    "id": "VItAJvklgnS7"
   },
   "source": [
    "# IV.Conclusion:"
   ]
  },
  {
   "cell_type": "code",
   "execution_count": 88,
   "metadata": {
    "colab": {
     "base_uri": "https://localhost:8080/",
     "height": 206
    },
    "id": "LzJM2JoyjdJj",
    "outputId": "61147146-2a4e-4935-f460-e9dcd7501010"
   },
   "outputs": [
    {
     "data": {
      "text/html": [
       "\n",
       "  <div id=\"df-d7d390e0-aa15-4412-9e97-45c33182ea48\">\n",
       "    <div class=\"colab-df-container\">\n",
       "      <div>\n",
       "<style scoped>\n",
       "    .dataframe tbody tr th:only-of-type {\n",
       "        vertical-align: middle;\n",
       "    }\n",
       "\n",
       "    .dataframe tbody tr th {\n",
       "        vertical-align: top;\n",
       "    }\n",
       "\n",
       "    .dataframe thead th {\n",
       "        text-align: right;\n",
       "    }\n",
       "</style>\n",
       "<table border=\"1\" class=\"dataframe\">\n",
       "  <thead>\n",
       "    <tr style=\"text-align: right;\">\n",
       "      <th></th>\n",
       "      <th>Model</th>\n",
       "      <th>Accuracy</th>\n",
       "      <th>Precision</th>\n",
       "      <th>Recall</th>\n",
       "      <th>F1-score</th>\n",
       "    </tr>\n",
       "  </thead>\n",
       "  <tbody>\n",
       "    <tr>\n",
       "      <th>0</th>\n",
       "      <td>Decision Tree</td>\n",
       "      <td>0.870229</td>\n",
       "      <td>0.819277</td>\n",
       "      <td>0.781609</td>\n",
       "      <td>0.800000</td>\n",
       "    </tr>\n",
       "    <tr>\n",
       "      <th>1</th>\n",
       "      <td>Random Forest</td>\n",
       "      <td>0.866412</td>\n",
       "      <td>0.842105</td>\n",
       "      <td>0.735632</td>\n",
       "      <td>0.785276</td>\n",
       "    </tr>\n",
       "    <tr>\n",
       "      <th>2</th>\n",
       "      <td>RF w/ Bagging</td>\n",
       "      <td>0.870229</td>\n",
       "      <td>0.853333</td>\n",
       "      <td>0.735632</td>\n",
       "      <td>0.790123</td>\n",
       "    </tr>\n",
       "    <tr>\n",
       "      <th>3</th>\n",
       "      <td>KNN</td>\n",
       "      <td>0.851145</td>\n",
       "      <td>0.815789</td>\n",
       "      <td>0.712644</td>\n",
       "      <td>0.760736</td>\n",
       "    </tr>\n",
       "    <tr>\n",
       "      <th>4</th>\n",
       "      <td>Logistic Regression</td>\n",
       "      <td>0.832061</td>\n",
       "      <td>0.741573</td>\n",
       "      <td>0.758621</td>\n",
       "      <td>0.750000</td>\n",
       "    </tr>\n",
       "  </tbody>\n",
       "</table>\n",
       "</div>\n",
       "      <button class=\"colab-df-convert\" onclick=\"convertToInteractive('df-d7d390e0-aa15-4412-9e97-45c33182ea48')\"\n",
       "              title=\"Convert this dataframe to an interactive table.\"\n",
       "              style=\"display:none;\">\n",
       "        \n",
       "  <svg xmlns=\"http://www.w3.org/2000/svg\" height=\"24px\"viewBox=\"0 0 24 24\"\n",
       "       width=\"24px\">\n",
       "    <path d=\"M0 0h24v24H0V0z\" fill=\"none\"/>\n",
       "    <path d=\"M18.56 5.44l.94 2.06.94-2.06 2.06-.94-2.06-.94-.94-2.06-.94 2.06-2.06.94zm-11 1L8.5 8.5l.94-2.06 2.06-.94-2.06-.94L8.5 2.5l-.94 2.06-2.06.94zm10 10l.94 2.06.94-2.06 2.06-.94-2.06-.94-.94-2.06-.94 2.06-2.06.94z\"/><path d=\"M17.41 7.96l-1.37-1.37c-.4-.4-.92-.59-1.43-.59-.52 0-1.04.2-1.43.59L10.3 9.45l-7.72 7.72c-.78.78-.78 2.05 0 2.83L4 21.41c.39.39.9.59 1.41.59.51 0 1.02-.2 1.41-.59l7.78-7.78 2.81-2.81c.8-.78.8-2.07 0-2.86zM5.41 20L4 18.59l7.72-7.72 1.47 1.35L5.41 20z\"/>\n",
       "  </svg>\n",
       "      </button>\n",
       "      \n",
       "  <style>\n",
       "    .colab-df-container {\n",
       "      display:flex;\n",
       "      flex-wrap:wrap;\n",
       "      gap: 12px;\n",
       "    }\n",
       "\n",
       "    .colab-df-convert {\n",
       "      background-color: #E8F0FE;\n",
       "      border: none;\n",
       "      border-radius: 50%;\n",
       "      cursor: pointer;\n",
       "      display: none;\n",
       "      fill: #1967D2;\n",
       "      height: 32px;\n",
       "      padding: 0 0 0 0;\n",
       "      width: 32px;\n",
       "    }\n",
       "\n",
       "    .colab-df-convert:hover {\n",
       "      background-color: #E2EBFA;\n",
       "      box-shadow: 0px 1px 2px rgba(60, 64, 67, 0.3), 0px 1px 3px 1px rgba(60, 64, 67, 0.15);\n",
       "      fill: #174EA6;\n",
       "    }\n",
       "\n",
       "    [theme=dark] .colab-df-convert {\n",
       "      background-color: #3B4455;\n",
       "      fill: #D2E3FC;\n",
       "    }\n",
       "\n",
       "    [theme=dark] .colab-df-convert:hover {\n",
       "      background-color: #434B5C;\n",
       "      box-shadow: 0px 1px 3px 1px rgba(0, 0, 0, 0.15);\n",
       "      filter: drop-shadow(0px 1px 2px rgba(0, 0, 0, 0.3));\n",
       "      fill: #FFFFFF;\n",
       "    }\n",
       "  </style>\n",
       "\n",
       "      <script>\n",
       "        const buttonEl =\n",
       "          document.querySelector('#df-d7d390e0-aa15-4412-9e97-45c33182ea48 button.colab-df-convert');\n",
       "        buttonEl.style.display =\n",
       "          google.colab.kernel.accessAllowed ? 'block' : 'none';\n",
       "\n",
       "        async function convertToInteractive(key) {\n",
       "          const element = document.querySelector('#df-d7d390e0-aa15-4412-9e97-45c33182ea48');\n",
       "          const dataTable =\n",
       "            await google.colab.kernel.invokeFunction('convertToInteractive',\n",
       "                                                     [key], {});\n",
       "          if (!dataTable) return;\n",
       "\n",
       "          const docLinkHtml = 'Like what you see? Visit the ' +\n",
       "            '<a target=\"_blank\" href=https://colab.research.google.com/notebooks/data_table.ipynb>data table notebook</a>'\n",
       "            + ' to learn more about interactive tables.';\n",
       "          element.innerHTML = '';\n",
       "          dataTable['output_type'] = 'display_data';\n",
       "          await google.colab.output.renderOutput(dataTable, element);\n",
       "          const docLink = document.createElement('div');\n",
       "          docLink.innerHTML = docLinkHtml;\n",
       "          element.appendChild(docLink);\n",
       "        }\n",
       "      </script>\n",
       "    </div>\n",
       "  </div>\n",
       "  "
      ],
      "text/plain": [
       "                 Model  Accuracy  Precision    Recall  F1-score\n",
       "0        Decision Tree  0.870229   0.819277  0.781609  0.800000\n",
       "1        Random Forest  0.866412   0.842105  0.735632  0.785276\n",
       "2        RF w/ Bagging  0.870229   0.853333  0.735632  0.790123\n",
       "3                  KNN  0.851145   0.815789  0.712644  0.760736\n",
       "4  Logistic Regression  0.832061   0.741573  0.758621  0.750000"
      ]
     },
     "execution_count": 88,
     "metadata": {},
     "output_type": "execute_result"
    }
   ],
   "source": [
    "# Models Summary\n",
    "metrics_df = pd.DataFrame({\n",
    "    'Model': ['Decision Tree', 'Random Forest', 'RF w/ Bagging', 'KNN', 'Logistic Regression'],\n",
    "    'Accuracy': [dt_accuracy, rf_accuracy, rfb_accuracy, knn_accuracy, lg_accuracy],\n",
    "    'Precision': [dt_precision, rf_precision, rfb_precision, knn_precision, lg_precision],\n",
    "    'Recall': [dt_recall, rf_recall, rfb_recall, knn_recall, lg_recall],\n",
    "    'F1-score': [dt_f1, rf_f1, rfb_f1, knn_f1, lg_f1]\n",
    "    })\n",
    "\n",
    "metrics_df"
   ]
  },
  {
   "cell_type": "markdown",
   "metadata": {
    "id": "myjgdUMZm9vI"
   },
   "source": [
    "**CONCLUSION:**\n",
    "\n",
    "From the models summary above, we can see that taking into account all metrics, we have interesting results here.\n",
    "Indeed, our Decision Tree has the exact same accuracy than our Random Forest w/ Bagging (which is quite uncommon!). \n",
    "To determine which model is truly the best, we can 1) select the model which run faster than the other or 2) look at other metrics.\n",
    "As the selected model won't be deployed, the running time is not really important. **We can therefore look at the F1-score**. \n",
    "Looking at the recall would be necessary if we were working on some use cases for the health/counter terrorism sectors, but this is not the case.  \n",
    "We therefore decide that our **Decision Tree** is our best model as it has the best F-1 score compared to the RF w/ Bagging.\n",
    "Despite its great precision, the RF w/ Bagging model has quite a low recall, therefore affecting the F-1 score (which is the harmonic mean \n",
    "between the precision and the recall).\n"
   ]
  }
 ],
 "metadata": {
  "colab": {
   "provenance": []
  },
  "hide_input": false,
  "kernelspec": {
   "display_name": "Python 3 (ipykernel)",
   "language": "python",
   "name": "python3"
  },
  "language_info": {
   "codemirror_mode": {
    "name": "ipython",
    "version": 3
   },
   "file_extension": ".py",
   "mimetype": "text/x-python",
   "name": "python",
   "nbconvert_exporter": "python",
   "pygments_lexer": "ipython3",
   "version": "3.9.13"
  },
  "toc": {
   "base_numbering": 1,
   "nav_menu": {},
   "number_sections": true,
   "sideBar": true,
   "skip_h1_title": false,
   "title_cell": "Table of Contents",
   "title_sidebar": "Contents",
   "toc_cell": false,
   "toc_position": {},
   "toc_section_display": true,
   "toc_window_display": false
  },
  "varInspector": {
   "cols": {
    "lenName": 16,
    "lenType": 16,
    "lenVar": 40
   },
   "kernels_config": {
    "python": {
     "delete_cmd_postfix": "",
     "delete_cmd_prefix": "del ",
     "library": "var_list.py",
     "varRefreshCmd": "print(var_dic_list())"
    },
    "r": {
     "delete_cmd_postfix": ") ",
     "delete_cmd_prefix": "rm(",
     "library": "var_list.r",
     "varRefreshCmd": "cat(var_dic_list()) "
    }
   },
   "types_to_exclude": [
    "module",
    "function",
    "builtin_function_or_method",
    "instance",
    "_Feature"
   ],
   "window_display": false
  }
 },
 "nbformat": 4,
 "nbformat_minor": 1
}
